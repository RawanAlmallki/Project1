{
 "cells": [
  {
   "cell_type": "markdown",
   "metadata": {},
   "source": [
    "# Project 1: Driving Licenses, Traffic Accidents and Casualties Analysis"
   ]
  },
  {
   "cell_type": "markdown",
   "metadata": {},
   "source": [
    "From the data provided by the Traffic Department of the Ministry of Interior to monitor traffic accidents. It was analysed to provide recommendations to help reduce traffic accidents. We analyzed a dataset showing the number of traffic accidents in the regions in 2016-2017 and a dataset showing the number of driver's licenses issued in 1993-2017."
   ]
  },
  {
   "cell_type": "markdown",
   "metadata": {},
   "source": [
    "## Problem Statment\n",
    "\n",
    "Craft your problem statement here using the prompt from the README and other sources you find during your investigation."
   ]
  },
  {
   "cell_type": "markdown",
   "metadata": {},
   "source": [
    "- The Traffic Department of the Ministry of Interior faced a problem in increasing traffic accidents in 2016-2017 and the average rate of traffic accidents in Saudi Arabia was up to (41029-35422) and there are regions in Saudi Arabia that exceed this average and have increased the level of damage caused by accidents."
   ]
  },
  {
   "cell_type": "markdown",
   "metadata": {},
   "source": [
    "## Executive Summary\n",
    "Write an executive summary that summarizes the problem and your key findings."
   ]
  },
  {
   "cell_type": "markdown",
   "metadata": {},
   "source": [
    "We find two issues in the data that should be the main focus of the General Department of traffic going forward:\n",
    "\n",
    "- While traffic accidents in most regions are relatively similar, three regions have far above the mean traffic accidents: Makkah, Riyadh and the Eastern Region.\n",
    "\n",
    "- The Traffic Department of the Ministry of Interior should focus on the regions mentioned in the previous point, which have a high population density."
   ]
  },
  {
   "cell_type": "markdown",
   "metadata": {},
   "source": [
    "### Contents:\n",
    "- [Datasets Description](#Datasets-Description)\n",
    "- [Data Import & Cleaning](#Data-Import-and-Cleaning)\n",
    "- [Exploratory Data Analysis](#Exploratory-Data-Analysis)\n",
    "- [Data Visualization](#Visualize-the-data)\n",
    "- [Descriptive and Inferential Statistics](#Descriptive-and-Inferential-Statistics)\n",
    "- [Outside Research](#Outside-Research)\n",
    "- [Conclusions and Recommendations](#Conclusions-and-Recommendations)"
   ]
  },
  {
   "cell_type": "markdown",
   "metadata": {},
   "source": [
    "**If you combine your problem statement, executive summary, data dictionary, and conclusions/recommendations, you have an amazing README.md file that quickly aligns your audience to the contents of your project.** Don't forget to cite your data sources!"
   ]
  },
  {
   "cell_type": "markdown",
   "metadata": {},
   "source": [
    "*All libraries used should be added here, including any Jupyter magic commands*"
   ]
  },
  {
   "cell_type": "code",
   "execution_count": 2,
   "metadata": {},
   "outputs": [],
   "source": [
    "#Imports the libraries\n",
    "import numpy as np\n",
    "import pandas as pd\n",
    "import seaborn as sns\n",
    "import matplotlib.pyplot as plt\n",
    "%matplotlib inline"
   ]
  },
  {
   "cell_type": "markdown",
   "metadata": {},
   "source": [
    "## Datasets Description\n",
    "\n",
    "[Driving Licenses](https://datasource.kapsarc.org/explore/dataset/saudi-arabia-driving-licenses-issued-in-the-kingdom-2004-2008/information/?disjunctive.administritive_area&sort=time_period&location=5,24.37495,45.08024&basemap=jawg.streets)\n",
    "This dataset contains Saudi Arabia Driving Licenses Issued By Administrative Area for 1993 - 2016. Data from General Authority for Statistics . Follow datasource.kapsarc.org for timely data to advance energy economics research.\n",
    "\n",
    "[Traffic Accidents and Casualties](https://datasource.kapsarc.org/explore/dataset/saudi-arabia-traffic-accidents-and-casualties-injured-dead-2008/export/?disjunctive.region&disjunctive.indicator&sort=time_period)\n",
    "This dataset contains Saudi Arabia Traffic Accidents and Casualties by Region for 2016. Data from General Authority for Statistics. Follow datasource.kapsarc.org for timely data to advance energy economics research.\n"
   ]
  },
  {
   "cell_type": "markdown",
   "metadata": {},
   "source": [
    "## Data Import and Cleaning"
   ]
  },
  {
   "cell_type": "markdown",
   "metadata": {},
   "source": [
    "#### 1. Read In Driving Licenses & Traffic Accidents Data\n",
    "Read in the `saudi-arabia-traffic-accidents-2008.csv` and `saudi-arabia-driving-licenses-2004-2008.csv` files and assign them to appropriately named pandas dataframes."
   ]
  },
  {
   "cell_type": "code",
   "execution_count": 3,
   "metadata": {},
   "outputs": [],
   "source": [
    "#Code\n",
    "#reading the csv file \n",
    "ksa_traff_accid = pd.read_csv('../data/saudi-arabia-traffic-accidents-2008.csv',sep=';')\n",
    "ksa_driv_lic = pd.read_csv('../data/saudi-arabia-driving-licenses-2004-2008.csv',sep=';')"
   ]
  },
  {
   "cell_type": "markdown",
   "metadata": {},
   "source": [
    "#### 2. Display data\n",
    "\n",
    "Print the first 10 rows of each dataframe to your jupyter notebook"
   ]
  },
  {
   "cell_type": "code",
   "execution_count": 4,
   "metadata": {
    "scrolled": true
   },
   "outputs": [
    {
     "data": {
      "text/html": [
       "<div>\n",
       "<style scoped>\n",
       "    .dataframe tbody tr th:only-of-type {\n",
       "        vertical-align: middle;\n",
       "    }\n",
       "\n",
       "    .dataframe tbody tr th {\n",
       "        vertical-align: top;\n",
       "    }\n",
       "\n",
       "    .dataframe thead th {\n",
       "        text-align: right;\n",
       "    }\n",
       "</style>\n",
       "<table border=\"1\" class=\"dataframe\">\n",
       "  <thead>\n",
       "    <tr style=\"text-align: right;\">\n",
       "      <th></th>\n",
       "      <th>Unnamed: 0</th>\n",
       "      <th>Unnamed: 0.1</th>\n",
       "      <th>Year</th>\n",
       "      <th>Region</th>\n",
       "      <th>Indicator</th>\n",
       "      <th>Value</th>\n",
       "      <th>geo_point_2d</th>\n",
       "    </tr>\n",
       "  </thead>\n",
       "  <tbody>\n",
       "    <tr>\n",
       "      <td>0</td>\n",
       "      <td>0</td>\n",
       "      <td>0</td>\n",
       "      <td>(2016)</td>\n",
       "      <td>Makkah</td>\n",
       "      <td>No. of Casualties - Injured</td>\n",
       "      <td>12383n</td>\n",
       "      <td>21.628962766, 41.2636898334</td>\n",
       "    </tr>\n",
       "    <tr>\n",
       "      <td>1</td>\n",
       "      <td>1</td>\n",
       "      <td>1</td>\n",
       "      <td>(2016)</td>\n",
       "      <td>Eastern Region</td>\n",
       "      <td>No. of Casualties - Dead</td>\n",
       "      <td>1113n</td>\n",
       "      <td>23.2883307307, 50.1478302439</td>\n",
       "    </tr>\n",
       "    <tr>\n",
       "      <td>2</td>\n",
       "      <td>2</td>\n",
       "      <td>2</td>\n",
       "      <td>(2016)</td>\n",
       "      <td>Tabouk</td>\n",
       "      <td>No. of Casualties - Dead</td>\n",
       "      <td>434n</td>\n",
       "      <td>27.90165499, 37.2598581394</td>\n",
       "    </tr>\n",
       "    <tr>\n",
       "      <td>3</td>\n",
       "      <td>3</td>\n",
       "      <td>3</td>\n",
       "      <td>(2016)</td>\n",
       "      <td>Hail</td>\n",
       "      <td>No. of Casualties - Dead</td>\n",
       "      <td>299n</td>\n",
       "      <td>27.400845724, 41.4406960508</td>\n",
       "    </tr>\n",
       "    <tr>\n",
       "      <td>4</td>\n",
       "      <td>4</td>\n",
       "      <td>4</td>\n",
       "      <td>(2016)</td>\n",
       "      <td>Hail</td>\n",
       "      <td>No. of Accidents</td>\n",
       "      <td>10199n</td>\n",
       "      <td>27.400845724, 41.4406960508</td>\n",
       "    </tr>\n",
       "    <tr>\n",
       "      <td>5</td>\n",
       "      <td>5</td>\n",
       "      <td>5</td>\n",
       "      <td>(2016)</td>\n",
       "      <td>Northern Boarder</td>\n",
       "      <td>No. of Casualties - Dead</td>\n",
       "      <td>193n</td>\n",
       "      <td>30.197074783, 41.8171186952</td>\n",
       "    </tr>\n",
       "    <tr>\n",
       "      <td>6</td>\n",
       "      <td>6</td>\n",
       "      <td>6</td>\n",
       "      <td>(2017)</td>\n",
       "      <td>Jazan</td>\n",
       "      <td>No. of Accidents</td>\n",
       "      <td>22161n</td>\n",
       "      <td>17.2072313962, 42.6525807422</td>\n",
       "    </tr>\n",
       "    <tr>\n",
       "      <td>7</td>\n",
       "      <td>7</td>\n",
       "      <td>7</td>\n",
       "      <td>(2017)</td>\n",
       "      <td>Al-Jouf</td>\n",
       "      <td>No. of Accidents</td>\n",
       "      <td>10469n</td>\n",
       "      <td>29.9677445762, 39.5570371172</td>\n",
       "    </tr>\n",
       "    <tr>\n",
       "      <td>8</td>\n",
       "      <td>8</td>\n",
       "      <td>8</td>\n",
       "      <td>(2017)</td>\n",
       "      <td>Total</td>\n",
       "      <td>No. of Casualties - Dead</td>\n",
       "      <td>7489n</td>\n",
       "      <td>NaN</td>\n",
       "    </tr>\n",
       "    <tr>\n",
       "      <td>9</td>\n",
       "      <td>9</td>\n",
       "      <td>9</td>\n",
       "      <td>(2016)</td>\n",
       "      <td>Northern Boarder</td>\n",
       "      <td>No. of Casualties - Injured</td>\n",
       "      <td>631n</td>\n",
       "      <td>30.197074783, 41.8171186952</td>\n",
       "    </tr>\n",
       "  </tbody>\n",
       "</table>\n",
       "</div>"
      ],
      "text/plain": [
       "   Unnamed: 0  Unnamed: 0.1    Year            Region  \\\n",
       "0           0             0  (2016)            Makkah   \n",
       "1           1             1  (2016)    Eastern Region   \n",
       "2           2             2  (2016)            Tabouk   \n",
       "3           3             3  (2016)              Hail   \n",
       "4           4             4  (2016)              Hail   \n",
       "5           5             5  (2016)  Northern Boarder   \n",
       "6           6             6  (2017)             Jazan   \n",
       "7           7             7  (2017)           Al-Jouf   \n",
       "8           8             8  (2017)             Total   \n",
       "9           9             9  (2016)  Northern Boarder   \n",
       "\n",
       "                     Indicator   Value                  geo_point_2d  \n",
       "0  No. of Casualties - Injured  12383n   21.628962766, 41.2636898334  \n",
       "1     No. of Casualties - Dead   1113n  23.2883307307, 50.1478302439  \n",
       "2     No. of Casualties - Dead    434n    27.90165499, 37.2598581394  \n",
       "3     No. of Casualties - Dead    299n   27.400845724, 41.4406960508  \n",
       "4             No. of Accidents  10199n   27.400845724, 41.4406960508  \n",
       "5     No. of Casualties - Dead    193n   30.197074783, 41.8171186952  \n",
       "6             No. of Accidents  22161n  17.2072313962, 42.6525807422  \n",
       "7             No. of Accidents  10469n  29.9677445762, 39.5570371172  \n",
       "8     No. of Casualties - Dead   7489n                           NaN  \n",
       "9  No. of Casualties - Injured    631n   30.197074783, 41.8171186952  "
      ]
     },
     "execution_count": 4,
     "metadata": {},
     "output_type": "execute_result"
    }
   ],
   "source": [
    "#Code\n",
    "#display View head and tail to check data characters and if they contain null values.. \n",
    "ksa_traff_accid.head(10)"
   ]
  },
  {
   "cell_type": "code",
   "execution_count": 5,
   "metadata": {},
   "outputs": [
    {
     "data": {
      "text/html": [
       "<div>\n",
       "<style scoped>\n",
       "    .dataframe tbody tr th:only-of-type {\n",
       "        vertical-align: middle;\n",
       "    }\n",
       "\n",
       "    .dataframe tbody tr th {\n",
       "        vertical-align: top;\n",
       "    }\n",
       "\n",
       "    .dataframe thead th {\n",
       "        text-align: right;\n",
       "    }\n",
       "</style>\n",
       "<table border=\"1\" class=\"dataframe\">\n",
       "  <thead>\n",
       "    <tr style=\"text-align: right;\">\n",
       "      <th></th>\n",
       "      <th>Unnamed: 0</th>\n",
       "      <th>Unnamed: 0.1</th>\n",
       "      <th>Year</th>\n",
       "      <th>Region</th>\n",
       "      <th>Indicator</th>\n",
       "      <th>Value</th>\n",
       "      <th>geo_point_2d</th>\n",
       "    </tr>\n",
       "  </thead>\n",
       "  <tbody>\n",
       "    <tr>\n",
       "      <td>74</td>\n",
       "      <td>74</td>\n",
       "      <td>74</td>\n",
       "      <td>(2016)</td>\n",
       "      <td>Qassim</td>\n",
       "      <td>No. of Casualties - Dead</td>\n",
       "      <td>397n</td>\n",
       "      <td>26.1967063704, 43.3429998455</td>\n",
       "    </tr>\n",
       "    <tr>\n",
       "      <td>75</td>\n",
       "      <td>75</td>\n",
       "      <td>75</td>\n",
       "      <td>(2016)</td>\n",
       "      <td>Najran</td>\n",
       "      <td>No. of Casualties - Dead</td>\n",
       "      <td>173n</td>\n",
       "      <td>18.4511003068, 46.8688495726</td>\n",
       "    </tr>\n",
       "    <tr>\n",
       "      <td>76</td>\n",
       "      <td>76</td>\n",
       "      <td>76</td>\n",
       "      <td>(2016)</td>\n",
       "      <td>Najran</td>\n",
       "      <td>No. of Casualties - Injured</td>\n",
       "      <td>706n</td>\n",
       "      <td>18.4511003068, 46.8688495726</td>\n",
       "    </tr>\n",
       "    <tr>\n",
       "      <td>77</td>\n",
       "      <td>77</td>\n",
       "      <td>77</td>\n",
       "      <td>(2016)</td>\n",
       "      <td>Total</td>\n",
       "      <td>No. of Casualties - Dead</td>\n",
       "      <td>9031n</td>\n",
       "      <td>NaN</td>\n",
       "    </tr>\n",
       "    <tr>\n",
       "      <td>78</td>\n",
       "      <td>78</td>\n",
       "      <td>78</td>\n",
       "      <td>(2017)</td>\n",
       "      <td>Makkah</td>\n",
       "      <td>No. of Accidents</td>\n",
       "      <td>145541n</td>\n",
       "      <td>21.628962766, 41.2636898334</td>\n",
       "    </tr>\n",
       "    <tr>\n",
       "      <td>79</td>\n",
       "      <td>79</td>\n",
       "      <td>79</td>\n",
       "      <td>(2017)</td>\n",
       "      <td>Asir</td>\n",
       "      <td>No. of Casualties - Injured</td>\n",
       "      <td>2368n</td>\n",
       "      <td>19.1387847401, 42.941470036</td>\n",
       "    </tr>\n",
       "    <tr>\n",
       "      <td>80</td>\n",
       "      <td>80</td>\n",
       "      <td>80</td>\n",
       "      <td>(2017)</td>\n",
       "      <td>Hail</td>\n",
       "      <td>No. of Casualties - Injured</td>\n",
       "      <td>773n</td>\n",
       "      <td>27.400845724, 41.4406960508</td>\n",
       "    </tr>\n",
       "    <tr>\n",
       "      <td>81</td>\n",
       "      <td>81</td>\n",
       "      <td>81</td>\n",
       "      <td>(2017)</td>\n",
       "      <td>Al-Baaha</td>\n",
       "      <td>No. of Casualties - Dead</td>\n",
       "      <td>134n</td>\n",
       "      <td>20.1484058503, 41.4665484892</td>\n",
       "    </tr>\n",
       "    <tr>\n",
       "      <td>82</td>\n",
       "      <td>82</td>\n",
       "      <td>82</td>\n",
       "      <td>(2017)</td>\n",
       "      <td>Al-Baaha</td>\n",
       "      <td>No. of Accidents</td>\n",
       "      <td>1414n</td>\n",
       "      <td>20.1484058503, 41.4665484892</td>\n",
       "    </tr>\n",
       "    <tr>\n",
       "      <td>83</td>\n",
       "      <td>83</td>\n",
       "      <td>83</td>\n",
       "      <td>(2017)</td>\n",
       "      <td>Al-Baaha</td>\n",
       "      <td>No. of Casualties - Injured</td>\n",
       "      <td>1007n</td>\n",
       "      <td>20.1484058503, 41.4665484892</td>\n",
       "    </tr>\n",
       "  </tbody>\n",
       "</table>\n",
       "</div>"
      ],
      "text/plain": [
       "    Unnamed: 0  Unnamed: 0.1    Year    Region                    Indicator  \\\n",
       "74          74            74  (2016)    Qassim     No. of Casualties - Dead   \n",
       "75          75            75  (2016)    Najran     No. of Casualties - Dead   \n",
       "76          76            76  (2016)    Najran  No. of Casualties - Injured   \n",
       "77          77            77  (2016)     Total     No. of Casualties - Dead   \n",
       "78          78            78  (2017)    Makkah             No. of Accidents   \n",
       "79          79            79  (2017)      Asir  No. of Casualties - Injured   \n",
       "80          80            80  (2017)      Hail  No. of Casualties - Injured   \n",
       "81          81            81  (2017)  Al-Baaha     No. of Casualties - Dead   \n",
       "82          82            82  (2017)  Al-Baaha             No. of Accidents   \n",
       "83          83            83  (2017)  Al-Baaha  No. of Casualties - Injured   \n",
       "\n",
       "      Value                  geo_point_2d  \n",
       "74     397n  26.1967063704, 43.3429998455  \n",
       "75     173n  18.4511003068, 46.8688495726  \n",
       "76     706n  18.4511003068, 46.8688495726  \n",
       "77    9031n                           NaN  \n",
       "78  145541n   21.628962766, 41.2636898334  \n",
       "79    2368n   19.1387847401, 42.941470036  \n",
       "80     773n   27.400845724, 41.4406960508  \n",
       "81     134n  20.1484058503, 41.4665484892  \n",
       "82    1414n  20.1484058503, 41.4665484892  \n",
       "83    1007n  20.1484058503, 41.4665484892  "
      ]
     },
     "execution_count": 5,
     "metadata": {},
     "output_type": "execute_result"
    }
   ],
   "source": [
    "ksa_traff_accid.tail(10)"
   ]
  },
  {
   "cell_type": "code",
   "execution_count": 6,
   "metadata": {},
   "outputs": [],
   "source": [
    "#drop the unnecessary columns..\n",
    "ksa_traff_accid.drop(['Unnamed: 0','Unnamed: 0.1'], axis=1,inplace=True)"
   ]
  },
  {
   "cell_type": "code",
   "execution_count": 7,
   "metadata": {},
   "outputs": [],
   "source": [
    "#Using .strip to delete the character so we can edit the data type later..\n",
    "ksa_traff_accid['Value'] = ksa_traff_accid['Value'].str.strip('n')"
   ]
  },
  {
   "cell_type": "code",
   "execution_count": 8,
   "metadata": {},
   "outputs": [],
   "source": [
    "ksa_traff_accid['Year'] = ksa_traff_accid['Year'].str.strip('()')"
   ]
  },
  {
   "cell_type": "code",
   "execution_count": 9,
   "metadata": {},
   "outputs": [
    {
     "data": {
      "text/html": [
       "<div>\n",
       "<style scoped>\n",
       "    .dataframe tbody tr th:only-of-type {\n",
       "        vertical-align: middle;\n",
       "    }\n",
       "\n",
       "    .dataframe tbody tr th {\n",
       "        vertical-align: top;\n",
       "    }\n",
       "\n",
       "    .dataframe thead th {\n",
       "        text-align: right;\n",
       "    }\n",
       "</style>\n",
       "<table border=\"1\" class=\"dataframe\">\n",
       "  <thead>\n",
       "    <tr style=\"text-align: right;\">\n",
       "      <th></th>\n",
       "      <th>Year</th>\n",
       "      <th>Region</th>\n",
       "      <th>Indicator</th>\n",
       "      <th>Value</th>\n",
       "      <th>geo_point_2d</th>\n",
       "    </tr>\n",
       "  </thead>\n",
       "  <tbody>\n",
       "    <tr>\n",
       "      <td>0</td>\n",
       "      <td>2016</td>\n",
       "      <td>Makkah</td>\n",
       "      <td>No. of Casualties - Injured</td>\n",
       "      <td>12383</td>\n",
       "      <td>21.628962766, 41.2636898334</td>\n",
       "    </tr>\n",
       "    <tr>\n",
       "      <td>1</td>\n",
       "      <td>2016</td>\n",
       "      <td>Eastern Region</td>\n",
       "      <td>No. of Casualties - Dead</td>\n",
       "      <td>1113</td>\n",
       "      <td>23.2883307307, 50.1478302439</td>\n",
       "    </tr>\n",
       "  </tbody>\n",
       "</table>\n",
       "</div>"
      ],
      "text/plain": [
       "   Year          Region                    Indicator  Value  \\\n",
       "0  2016          Makkah  No. of Casualties - Injured  12383   \n",
       "1  2016  Eastern Region     No. of Casualties - Dead   1113   \n",
       "\n",
       "                   geo_point_2d  \n",
       "0   21.628962766, 41.2636898334  \n",
       "1  23.2883307307, 50.1478302439  "
      ]
     },
     "execution_count": 9,
     "metadata": {},
     "output_type": "execute_result"
    }
   ],
   "source": [
    "#Check the data after strip..\n",
    "ksa_traff_accid.head(2)"
   ]
  },
  {
   "cell_type": "code",
   "execution_count": 10,
   "metadata": {
    "scrolled": true
   },
   "outputs": [
    {
     "data": {
      "text/html": [
       "<div>\n",
       "<style scoped>\n",
       "    .dataframe tbody tr th:only-of-type {\n",
       "        vertical-align: middle;\n",
       "    }\n",
       "\n",
       "    .dataframe tbody tr th {\n",
       "        vertical-align: top;\n",
       "    }\n",
       "\n",
       "    .dataframe thead th {\n",
       "        text-align: right;\n",
       "    }\n",
       "</style>\n",
       "<table border=\"1\" class=\"dataframe\">\n",
       "  <thead>\n",
       "    <tr style=\"text-align: right;\">\n",
       "      <th></th>\n",
       "      <th>Unnamed: 0</th>\n",
       "      <th>Year</th>\n",
       "      <th>Administritive Area</th>\n",
       "      <th>Driving Liceses</th>\n",
       "      <th>geo_point_2d</th>\n",
       "    </tr>\n",
       "  </thead>\n",
       "  <tbody>\n",
       "    <tr>\n",
       "      <td>0</td>\n",
       "      <td>0</td>\n",
       "      <td>(2012)</td>\n",
       "      <td>Makkah</td>\n",
       "      <td>143954n</td>\n",
       "      <td>21.628962766, 41.2636898334</td>\n",
       "    </tr>\n",
       "    <tr>\n",
       "      <td>1</td>\n",
       "      <td>1</td>\n",
       "      <td>(1994)</td>\n",
       "      <td>Makkah</td>\n",
       "      <td>75349n</td>\n",
       "      <td>21.628962766, 41.2636898334</td>\n",
       "    </tr>\n",
       "    <tr>\n",
       "      <td>2</td>\n",
       "      <td>2</td>\n",
       "      <td>(1998)</td>\n",
       "      <td>Makkah</td>\n",
       "      <td>86082n</td>\n",
       "      <td>21.628962766, 41.2636898334</td>\n",
       "    </tr>\n",
       "    <tr>\n",
       "      <td>3</td>\n",
       "      <td>3</td>\n",
       "      <td>(2004)</td>\n",
       "      <td>Makkah</td>\n",
       "      <td>86636n</td>\n",
       "      <td>21.628962766, 41.2636898334</td>\n",
       "    </tr>\n",
       "    <tr>\n",
       "      <td>4</td>\n",
       "      <td>4</td>\n",
       "      <td>(2005)</td>\n",
       "      <td>Makkah</td>\n",
       "      <td>65099n</td>\n",
       "      <td>21.628962766, 41.2636898334</td>\n",
       "    </tr>\n",
       "    <tr>\n",
       "      <td>5</td>\n",
       "      <td>5</td>\n",
       "      <td>(2008)</td>\n",
       "      <td>Makkah</td>\n",
       "      <td>77013n</td>\n",
       "      <td>21.628962766, 41.2636898334</td>\n",
       "    </tr>\n",
       "    <tr>\n",
       "      <td>6</td>\n",
       "      <td>6</td>\n",
       "      <td>(2014)</td>\n",
       "      <td>Madinah</td>\n",
       "      <td>31447n</td>\n",
       "      <td>24.927534539, 39.4918237173</td>\n",
       "    </tr>\n",
       "    <tr>\n",
       "      <td>7</td>\n",
       "      <td>7</td>\n",
       "      <td>(2013)</td>\n",
       "      <td>Madinah</td>\n",
       "      <td>28513n</td>\n",
       "      <td>24.927534539, 39.4918237173</td>\n",
       "    </tr>\n",
       "    <tr>\n",
       "      <td>8</td>\n",
       "      <td>8</td>\n",
       "      <td>(2012)</td>\n",
       "      <td>Madinah</td>\n",
       "      <td>14459n</td>\n",
       "      <td>24.927534539, 39.4918237173</td>\n",
       "    </tr>\n",
       "    <tr>\n",
       "      <td>9</td>\n",
       "      <td>9</td>\n",
       "      <td>(1994)</td>\n",
       "      <td>Madinah</td>\n",
       "      <td>3767n</td>\n",
       "      <td>24.927534539, 39.4918237173</td>\n",
       "    </tr>\n",
       "  </tbody>\n",
       "</table>\n",
       "</div>"
      ],
      "text/plain": [
       "   Unnamed: 0    Year Administritive Area Driving Liceses  \\\n",
       "0           0  (2012)              Makkah         143954n   \n",
       "1           1  (1994)              Makkah          75349n   \n",
       "2           2  (1998)              Makkah          86082n   \n",
       "3           3  (2004)              Makkah          86636n   \n",
       "4           4  (2005)              Makkah          65099n   \n",
       "5           5  (2008)              Makkah          77013n   \n",
       "6           6  (2014)             Madinah          31447n   \n",
       "7           7  (2013)             Madinah          28513n   \n",
       "8           8  (2012)             Madinah          14459n   \n",
       "9           9  (1994)             Madinah           3767n   \n",
       "\n",
       "                  geo_point_2d  \n",
       "0  21.628962766, 41.2636898334  \n",
       "1  21.628962766, 41.2636898334  \n",
       "2  21.628962766, 41.2636898334  \n",
       "3  21.628962766, 41.2636898334  \n",
       "4  21.628962766, 41.2636898334  \n",
       "5  21.628962766, 41.2636898334  \n",
       "6  24.927534539, 39.4918237173  \n",
       "7  24.927534539, 39.4918237173  \n",
       "8  24.927534539, 39.4918237173  \n",
       "9  24.927534539, 39.4918237173  "
      ]
     },
     "execution_count": 10,
     "metadata": {},
     "output_type": "execute_result"
    }
   ],
   "source": [
    "#display View head and tail to check data characters and if they contain null values..\n",
    "ksa_driv_lic.head(10)"
   ]
  },
  {
   "cell_type": "code",
   "execution_count": 11,
   "metadata": {},
   "outputs": [
    {
     "data": {
      "text/html": [
       "<div>\n",
       "<style scoped>\n",
       "    .dataframe tbody tr th:only-of-type {\n",
       "        vertical-align: middle;\n",
       "    }\n",
       "\n",
       "    .dataframe tbody tr th {\n",
       "        vertical-align: top;\n",
       "    }\n",
       "\n",
       "    .dataframe thead th {\n",
       "        text-align: right;\n",
       "    }\n",
       "</style>\n",
       "<table border=\"1\" class=\"dataframe\">\n",
       "  <thead>\n",
       "    <tr style=\"text-align: right;\">\n",
       "      <th></th>\n",
       "      <th>Unnamed: 0</th>\n",
       "      <th>Year</th>\n",
       "      <th>Administritive Area</th>\n",
       "      <th>Driving Liceses</th>\n",
       "      <th>geo_point_2d</th>\n",
       "    </tr>\n",
       "  </thead>\n",
       "  <tbody>\n",
       "    <tr>\n",
       "      <td>340</td>\n",
       "      <td>340</td>\n",
       "      <td>(2004)</td>\n",
       "      <td>Assir</td>\n",
       "      <td>17947n</td>\n",
       "      <td>19.1387847401, 42.941470036</td>\n",
       "    </tr>\n",
       "    <tr>\n",
       "      <td>341</td>\n",
       "      <td>341</td>\n",
       "      <td>(2009)</td>\n",
       "      <td>Assir</td>\n",
       "      <td>21582n</td>\n",
       "      <td>19.1387847401, 42.941470036</td>\n",
       "    </tr>\n",
       "    <tr>\n",
       "      <td>342</td>\n",
       "      <td>342</td>\n",
       "      <td>(2016)</td>\n",
       "      <td>Tabouk</td>\n",
       "      <td>13610n</td>\n",
       "      <td>27.90165499, 37.2598581394</td>\n",
       "    </tr>\n",
       "    <tr>\n",
       "      <td>343</td>\n",
       "      <td>343</td>\n",
       "      <td>(2012)</td>\n",
       "      <td>Tabouk</td>\n",
       "      <td>11391n</td>\n",
       "      <td>27.90165499, 37.2598581394</td>\n",
       "    </tr>\n",
       "    <tr>\n",
       "      <td>344</td>\n",
       "      <td>344</td>\n",
       "      <td>(1999)</td>\n",
       "      <td>Tabouk</td>\n",
       "      <td>5298n</td>\n",
       "      <td>27.90165499, 37.2598581394</td>\n",
       "    </tr>\n",
       "    <tr>\n",
       "      <td>345</td>\n",
       "      <td>345</td>\n",
       "      <td>(2000)</td>\n",
       "      <td>Tabouk</td>\n",
       "      <td>8473n</td>\n",
       "      <td>27.90165499, 37.2598581394</td>\n",
       "    </tr>\n",
       "    <tr>\n",
       "      <td>346</td>\n",
       "      <td>346</td>\n",
       "      <td>(2006)</td>\n",
       "      <td>Tabouk</td>\n",
       "      <td>8259n</td>\n",
       "      <td>27.90165499, 37.2598581394</td>\n",
       "    </tr>\n",
       "    <tr>\n",
       "      <td>347</td>\n",
       "      <td>347</td>\n",
       "      <td>(2013)</td>\n",
       "      <td>Hail</td>\n",
       "      <td>9731n</td>\n",
       "      <td>27.400845724, 41.4406960508</td>\n",
       "    </tr>\n",
       "    <tr>\n",
       "      <td>348</td>\n",
       "      <td>348</td>\n",
       "      <td>(1997)</td>\n",
       "      <td>Hail</td>\n",
       "      <td>6606n</td>\n",
       "      <td>27.400845724, 41.4406960508</td>\n",
       "    </tr>\n",
       "    <tr>\n",
       "      <td>349</td>\n",
       "      <td>349</td>\n",
       "      <td>(1999)</td>\n",
       "      <td>Hail</td>\n",
       "      <td>3139n</td>\n",
       "      <td>27.400845724, 41.4406960508</td>\n",
       "    </tr>\n",
       "  </tbody>\n",
       "</table>\n",
       "</div>"
      ],
      "text/plain": [
       "     Unnamed: 0    Year Administritive Area Driving Liceses  \\\n",
       "340         340  (2004)               Assir          17947n   \n",
       "341         341  (2009)               Assir          21582n   \n",
       "342         342  (2016)              Tabouk          13610n   \n",
       "343         343  (2012)              Tabouk          11391n   \n",
       "344         344  (1999)              Tabouk           5298n   \n",
       "345         345  (2000)              Tabouk           8473n   \n",
       "346         346  (2006)              Tabouk           8259n   \n",
       "347         347  (2013)                Hail           9731n   \n",
       "348         348  (1997)                Hail           6606n   \n",
       "349         349  (1999)                Hail           3139n   \n",
       "\n",
       "                    geo_point_2d  \n",
       "340  19.1387847401, 42.941470036  \n",
       "341  19.1387847401, 42.941470036  \n",
       "342   27.90165499, 37.2598581394  \n",
       "343   27.90165499, 37.2598581394  \n",
       "344   27.90165499, 37.2598581394  \n",
       "345   27.90165499, 37.2598581394  \n",
       "346   27.90165499, 37.2598581394  \n",
       "347  27.400845724, 41.4406960508  \n",
       "348  27.400845724, 41.4406960508  \n",
       "349  27.400845724, 41.4406960508  "
      ]
     },
     "execution_count": 11,
     "metadata": {},
     "output_type": "execute_result"
    }
   ],
   "source": [
    "ksa_driv_lic.tail(10)"
   ]
  },
  {
   "cell_type": "code",
   "execution_count": 12,
   "metadata": {},
   "outputs": [],
   "source": [
    "#drop the unnecessary columns..\n",
    "ksa_driv_lic.drop(['Unnamed: 0'], axis=1,inplace=True)"
   ]
  },
  {
   "cell_type": "code",
   "execution_count": 13,
   "metadata": {},
   "outputs": [],
   "source": [
    "#Using.strip() to delete the character so we can edit the data type later..\n",
    "ksa_driv_lic['Driving Liceses'] = ksa_driv_lic['Driving Liceses'].str.strip('n')"
   ]
  },
  {
   "cell_type": "code",
   "execution_count": 14,
   "metadata": {},
   "outputs": [],
   "source": [
    "#Using .strip to delete the character so we can edit the data type later..\n",
    "ksa_driv_lic['Year'] = ksa_driv_lic['Year'].str.strip('()')"
   ]
  },
  {
   "cell_type": "code",
   "execution_count": 15,
   "metadata": {},
   "outputs": [],
   "source": [
    "#Using .replace to replace the character so we can edit the data type later..\n",
    "ksa_driv_lic.columns = ksa_driv_lic.columns.str.replace(' ', '')"
   ]
  },
  {
   "cell_type": "code",
   "execution_count": 16,
   "metadata": {},
   "outputs": [
    {
     "data": {
      "text/html": [
       "<div>\n",
       "<style scoped>\n",
       "    .dataframe tbody tr th:only-of-type {\n",
       "        vertical-align: middle;\n",
       "    }\n",
       "\n",
       "    .dataframe tbody tr th {\n",
       "        vertical-align: top;\n",
       "    }\n",
       "\n",
       "    .dataframe thead th {\n",
       "        text-align: right;\n",
       "    }\n",
       "</style>\n",
       "<table border=\"1\" class=\"dataframe\">\n",
       "  <thead>\n",
       "    <tr style=\"text-align: right;\">\n",
       "      <th></th>\n",
       "      <th>Year</th>\n",
       "      <th>AdministritiveArea</th>\n",
       "      <th>DrivingLiceses</th>\n",
       "      <th>geo_point_2d</th>\n",
       "    </tr>\n",
       "  </thead>\n",
       "  <tbody>\n",
       "    <tr>\n",
       "      <td>0</td>\n",
       "      <td>2012</td>\n",
       "      <td>Makkah</td>\n",
       "      <td>143954</td>\n",
       "      <td>21.628962766, 41.2636898334</td>\n",
       "    </tr>\n",
       "    <tr>\n",
       "      <td>1</td>\n",
       "      <td>1994</td>\n",
       "      <td>Makkah</td>\n",
       "      <td>75349</td>\n",
       "      <td>21.628962766, 41.2636898334</td>\n",
       "    </tr>\n",
       "  </tbody>\n",
       "</table>\n",
       "</div>"
      ],
      "text/plain": [
       "   Year AdministritiveArea DrivingLiceses                 geo_point_2d\n",
       "0  2012             Makkah         143954  21.628962766, 41.2636898334\n",
       "1  1994             Makkah          75349  21.628962766, 41.2636898334"
      ]
     },
     "execution_count": 16,
     "metadata": {},
     "output_type": "execute_result"
    }
   ],
   "source": [
    "#check the data\n",
    "ksa_driv_lic.head(2)"
   ]
  },
  {
   "cell_type": "markdown",
   "metadata": {},
   "source": [
    "#### 3. Briefly describe the data\n",
    "\n",
    "Take your time looking through the data and briefly describe the data in the markdown cell below. Note things about what the columns might mean, and the general information that is conveyed in the dataframe."
   ]
  },
  {
   "cell_type": "markdown",
   "metadata": {},
   "source": [
    "Answer:"
   ]
  },
  {
   "cell_type": "markdown",
   "metadata": {},
   "source": [
    "#### 4a. How complete is the data?\n",
    "\n",
    "Investigate missing values etc."
   ]
  },
  {
   "cell_type": "code",
   "execution_count": 17,
   "metadata": {
    "scrolled": true
   },
   "outputs": [
    {
     "name": "stdout",
     "output_type": "stream",
     "text": [
      "<class 'pandas.core.frame.DataFrame'>\n",
      "RangeIndex: 84 entries, 0 to 83\n",
      "Data columns (total 5 columns):\n",
      "Year            84 non-null object\n",
      "Region          84 non-null object\n",
      "Indicator       84 non-null object\n",
      "Value           84 non-null object\n",
      "geo_point_2d    78 non-null object\n",
      "dtypes: object(5)\n",
      "memory usage: 3.4+ KB\n"
     ]
    }
   ],
   "source": [
    "#Code\n",
    "#check if there is null values in data by using .info() or .isnull\n",
    "ksa_traff_accid.info()"
   ]
  },
  {
   "cell_type": "code",
   "execution_count": 18,
   "metadata": {},
   "outputs": [
    {
     "data": {
      "text/plain": [
       "Year            0\n",
       "Region          0\n",
       "Indicator       0\n",
       "Value           0\n",
       "geo_point_2d    6\n",
       "dtype: int64"
      ]
     },
     "execution_count": 18,
     "metadata": {},
     "output_type": "execute_result"
    }
   ],
   "source": [
    "# calculate null values in data by using .sum()..\n",
    "ksa_traff_accid.isnull().sum()"
   ]
  },
  {
   "cell_type": "code",
   "execution_count": 19,
   "metadata": {},
   "outputs": [],
   "source": [
    "#drop the null values\n",
    "ksa_traff_accid.dropna(inplace=True)"
   ]
  },
  {
   "cell_type": "code",
   "execution_count": 20,
   "metadata": {},
   "outputs": [
    {
     "name": "stdout",
     "output_type": "stream",
     "text": [
      "<class 'pandas.core.frame.DataFrame'>\n",
      "RangeIndex: 350 entries, 0 to 349\n",
      "Data columns (total 4 columns):\n",
      "Year                  350 non-null object\n",
      "AdministritiveArea    350 non-null object\n",
      "DrivingLiceses        350 non-null object\n",
      "geo_point_2d          325 non-null object\n",
      "dtypes: object(4)\n",
      "memory usage: 11.1+ KB\n"
     ]
    }
   ],
   "source": [
    "#check if there is null values in data by using .info() or .isnull\n",
    "ksa_driv_lic.info()"
   ]
  },
  {
   "cell_type": "code",
   "execution_count": 21,
   "metadata": {},
   "outputs": [
    {
     "data": {
      "text/plain": [
       "Year                   0\n",
       "AdministritiveArea     0\n",
       "DrivingLiceses         0\n",
       "geo_point_2d          25\n",
       "dtype: int64"
      ]
     },
     "execution_count": 21,
     "metadata": {},
     "output_type": "execute_result"
    }
   ],
   "source": [
    "ksa_driv_lic.isnull().sum()"
   ]
  },
  {
   "cell_type": "code",
   "execution_count": 22,
   "metadata": {},
   "outputs": [],
   "source": [
    "ksa_driv_lic.dropna(inplace=True)"
   ]
  },
  {
   "cell_type": "markdown",
   "metadata": {},
   "source": [
    "#### 4b. Are there any obvious issues with the observations?\n",
    "\n",
    "**What is the minimum *possible* value for each dataset? What is the maximum *possible* value?**"
   ]
  },
  {
   "cell_type": "code",
   "execution_count": 23,
   "metadata": {},
   "outputs": [
    {
     "data": {
      "text/plain": [
       "(Year                                    2016\n",
       " Region                              Al-Baaha\n",
       " Indicator                   No. of Accidents\n",
       " Value                                   1007\n",
       " geo_point_2d    17.2072313962, 42.6525807422\n",
       " dtype: object, Year                                   2017\n",
       " Region                               Tabouk\n",
       " Indicator       No. of Casualties - Injured\n",
       " Value                                 99925\n",
       " geo_point_2d    30.197074783, 41.8171186952\n",
       " dtype: object)"
      ]
     },
     "execution_count": 23,
     "metadata": {},
     "output_type": "execute_result"
    }
   ],
   "source": [
    "#Code\n",
    "#find the Max & Min \n",
    "np.min(ksa_traff_accid), np.max(ksa_traff_accid)"
   ]
  },
  {
   "cell_type": "code",
   "execution_count": 24,
   "metadata": {},
   "outputs": [
    {
     "data": {
      "text/plain": [
       "(Year                                          1993\n",
       " AdministritiveArea                         Al-Baha\n",
       " DrivingLiceses                              100291\n",
       " geo_point_2d          17.2072313962, 42.6525807422\n",
       " dtype: object, Year                                         2017\n",
       " AdministritiveArea                         Tabouk\n",
       " DrivingLiceses                               9983\n",
       " geo_point_2d          30.197074783, 41.8171186952\n",
       " dtype: object)"
      ]
     },
     "execution_count": 24,
     "metadata": {},
     "output_type": "execute_result"
    }
   ],
   "source": [
    "np.min(ksa_driv_lic), np.max(ksa_driv_lic)"
   ]
  },
  {
   "cell_type": "markdown",
   "metadata": {},
   "source": [
    "#### 5. What are your data types? \n",
    "Display the data types of each feature. "
   ]
  },
  {
   "cell_type": "code",
   "execution_count": 25,
   "metadata": {
    "scrolled": true
   },
   "outputs": [
    {
     "data": {
      "text/plain": [
       "Year            object\n",
       "Region          object\n",
       "Indicator       object\n",
       "Value           object\n",
       "geo_point_2d    object\n",
       "dtype: object"
      ]
     },
     "execution_count": 25,
     "metadata": {},
     "output_type": "execute_result"
    }
   ],
   "source": [
    "#code\n",
    "#Using .dtypes to know the data type for ksa_traff_accid dataframe..\n",
    "ksa_traff_accid.dtypes"
   ]
  },
  {
   "cell_type": "code",
   "execution_count": 26,
   "metadata": {},
   "outputs": [
    {
     "data": {
      "text/plain": [
       "Year                  object\n",
       "AdministritiveArea    object\n",
       "DrivingLiceses        object\n",
       "geo_point_2d          object\n",
       "dtype: object"
      ]
     },
     "execution_count": 26,
     "metadata": {},
     "output_type": "execute_result"
    }
   ],
   "source": [
    "##Using .dtypes to know the data type for ksa_driv_lic dataframe ..\n",
    "ksa_driv_lic.dtypes"
   ]
  },
  {
   "cell_type": "markdown",
   "metadata": {},
   "source": [
    "What did you learn?\n",
    "- Do any of them seem odd?  \n",
    "- Which ones are not as they should be?  "
   ]
  },
  {
   "cell_type": "markdown",
   "metadata": {},
   "source": [
    "Answer:"
   ]
  },
  {
   "cell_type": "markdown",
   "metadata": {},
   "source": [
    "#### 6. Fix incorrect data types\n",
    "Based on what you discovered above, use appropriate methods to re-type incorrectly typed data.\n",
    "- Define a function that will allow you to convert numerical columns to an appropriate numeric type. Use `map` or `apply` to change these columns in each dataframe."
   ]
  },
  {
   "cell_type": "code",
   "execution_count": 27,
   "metadata": {},
   "outputs": [],
   "source": [
    "#code\n",
    "# change the Year&Value columns for ksa_traff_accid dataframe from string to intger..\n",
    "ksa_traff_accid['Year']=ksa_traff_accid['Year'].apply(pd.to_numeric)\n",
    "ksa_traff_accid['Value']=ksa_traff_accid['Value'].apply(pd.to_numeric)\n",
    "#ksa_traff_accid['geo_point_2d']=ksa_traff_accid['geo_point_2d'].apply(string())"
   ]
  },
  {
   "cell_type": "code",
   "execution_count": 28,
   "metadata": {},
   "outputs": [
    {
     "data": {
      "text/plain": [
       "Year             int64\n",
       "Region          object\n",
       "Indicator       object\n",
       "Value            int64\n",
       "geo_point_2d    object\n",
       "dtype: object"
      ]
     },
     "execution_count": 28,
     "metadata": {},
     "output_type": "execute_result"
    }
   ],
   "source": [
    "#check the changing in the data type..\n",
    "ksa_traff_accid.dtypes"
   ]
  },
  {
   "cell_type": "code",
   "execution_count": 29,
   "metadata": {},
   "outputs": [],
   "source": [
    "# change the Year&Value columns for ksa_driv_lic dataframe from string to intger..\n",
    "ksa_driv_lic['Year']=ksa_driv_lic['Year'].apply(pd.to_numeric)\n",
    "ksa_driv_lic['DrivingLiceses']=ksa_driv_lic['DrivingLiceses'].apply(pd.to_numeric)"
   ]
  },
  {
   "cell_type": "code",
   "execution_count": 30,
   "metadata": {},
   "outputs": [
    {
     "data": {
      "text/plain": [
       "Year                   int64\n",
       "AdministritiveArea    object\n",
       "DrivingLiceses         int64\n",
       "geo_point_2d          object\n",
       "dtype: object"
      ]
     },
     "execution_count": 30,
     "metadata": {},
     "output_type": "execute_result"
    }
   ],
   "source": [
    "#check the changing in the data type..\n",
    "ksa_driv_lic.dtypes"
   ]
  },
  {
   "cell_type": "markdown",
   "metadata": {},
   "source": [
    "- Make new columns `x` and `y` using `geo_point_2d`"
   ]
  },
  {
   "cell_type": "code",
   "execution_count": 31,
   "metadata": {},
   "outputs": [],
   "source": [
    "#code\n",
    "#Using .apply() with lambda to create a new columns 'x'&'y' from geo_point_2d column..\n",
    "ksa_traff_accid['x'] = ksa_traff_accid['geo_point_2d'].apply(lambda geo_point_2d:geo_point_2d.split(',')[0])\n",
    "ksa_traff_accid['y'] = ksa_traff_accid['geo_point_2d'].apply(lambda geo_point_2d:geo_point_2d.split(',')[1])"
   ]
  },
  {
   "cell_type": "code",
   "execution_count": 32,
   "metadata": {},
   "outputs": [
    {
     "data": {
      "text/html": [
       "<div>\n",
       "<style scoped>\n",
       "    .dataframe tbody tr th:only-of-type {\n",
       "        vertical-align: middle;\n",
       "    }\n",
       "\n",
       "    .dataframe tbody tr th {\n",
       "        vertical-align: top;\n",
       "    }\n",
       "\n",
       "    .dataframe thead th {\n",
       "        text-align: right;\n",
       "    }\n",
       "</style>\n",
       "<table border=\"1\" class=\"dataframe\">\n",
       "  <thead>\n",
       "    <tr style=\"text-align: right;\">\n",
       "      <th></th>\n",
       "      <th>Year</th>\n",
       "      <th>Region</th>\n",
       "      <th>Indicator</th>\n",
       "      <th>Value</th>\n",
       "      <th>geo_point_2d</th>\n",
       "      <th>x</th>\n",
       "      <th>y</th>\n",
       "    </tr>\n",
       "  </thead>\n",
       "  <tbody>\n",
       "    <tr>\n",
       "      <td>0</td>\n",
       "      <td>2016</td>\n",
       "      <td>Makkah</td>\n",
       "      <td>No. of Casualties - Injured</td>\n",
       "      <td>12383</td>\n",
       "      <td>21.628962766, 41.2636898334</td>\n",
       "      <td>21.628962766</td>\n",
       "      <td>41.2636898334</td>\n",
       "    </tr>\n",
       "    <tr>\n",
       "      <td>1</td>\n",
       "      <td>2016</td>\n",
       "      <td>Eastern Region</td>\n",
       "      <td>No. of Casualties - Dead</td>\n",
       "      <td>1113</td>\n",
       "      <td>23.2883307307, 50.1478302439</td>\n",
       "      <td>23.2883307307</td>\n",
       "      <td>50.1478302439</td>\n",
       "    </tr>\n",
       "  </tbody>\n",
       "</table>\n",
       "</div>"
      ],
      "text/plain": [
       "   Year          Region                    Indicator  Value  \\\n",
       "0  2016          Makkah  No. of Casualties - Injured  12383   \n",
       "1  2016  Eastern Region     No. of Casualties - Dead   1113   \n",
       "\n",
       "                   geo_point_2d              x               y  \n",
       "0   21.628962766, 41.2636898334   21.628962766   41.2636898334  \n",
       "1  23.2883307307, 50.1478302439  23.2883307307   50.1478302439  "
      ]
     },
     "execution_count": 32,
     "metadata": {},
     "output_type": "execute_result"
    }
   ],
   "source": [
    "ksa_traff_accid.head(2)"
   ]
  },
  {
   "cell_type": "code",
   "execution_count": 33,
   "metadata": {},
   "outputs": [],
   "source": [
    "#drop the column geo_point_2d\n",
    "ksa_traff_accid.drop(['geo_point_2d'], axis=1,inplace=True)"
   ]
  },
  {
   "cell_type": "code",
   "execution_count": 34,
   "metadata": {},
   "outputs": [],
   "source": [
    "#change the type of x&y to numaric..\n",
    "ksa_traff_accid['x']=ksa_traff_accid['x'].apply(pd.to_numeric)\n",
    "ksa_traff_accid['y']=ksa_traff_accid['y'].apply(pd.to_numeric)"
   ]
  },
  {
   "cell_type": "code",
   "execution_count": 35,
   "metadata": {},
   "outputs": [],
   "source": [
    "#Using .apply() with lambda to create a new columns 'x'&'y' from geo_point_2d column..\n",
    "ksa_driv_lic['x'] = ksa_driv_lic['geo_point_2d'].apply(lambda geo_point_2d:geo_point_2d.split(',')[0])\n",
    "ksa_driv_lic['y'] = ksa_driv_lic['geo_point_2d'].apply(lambda geo_point_2d:geo_point_2d.split(',')[1])"
   ]
  },
  {
   "cell_type": "code",
   "execution_count": 36,
   "metadata": {
    "scrolled": true
   },
   "outputs": [
    {
     "data": {
      "text/html": [
       "<div>\n",
       "<style scoped>\n",
       "    .dataframe tbody tr th:only-of-type {\n",
       "        vertical-align: middle;\n",
       "    }\n",
       "\n",
       "    .dataframe tbody tr th {\n",
       "        vertical-align: top;\n",
       "    }\n",
       "\n",
       "    .dataframe thead th {\n",
       "        text-align: right;\n",
       "    }\n",
       "</style>\n",
       "<table border=\"1\" class=\"dataframe\">\n",
       "  <thead>\n",
       "    <tr style=\"text-align: right;\">\n",
       "      <th></th>\n",
       "      <th>Year</th>\n",
       "      <th>AdministritiveArea</th>\n",
       "      <th>DrivingLiceses</th>\n",
       "      <th>geo_point_2d</th>\n",
       "      <th>x</th>\n",
       "      <th>y</th>\n",
       "    </tr>\n",
       "  </thead>\n",
       "  <tbody>\n",
       "    <tr>\n",
       "      <td>0</td>\n",
       "      <td>2012</td>\n",
       "      <td>Makkah</td>\n",
       "      <td>143954</td>\n",
       "      <td>21.628962766, 41.2636898334</td>\n",
       "      <td>21.628962766</td>\n",
       "      <td>41.2636898334</td>\n",
       "    </tr>\n",
       "    <tr>\n",
       "      <td>1</td>\n",
       "      <td>1994</td>\n",
       "      <td>Makkah</td>\n",
       "      <td>75349</td>\n",
       "      <td>21.628962766, 41.2636898334</td>\n",
       "      <td>21.628962766</td>\n",
       "      <td>41.2636898334</td>\n",
       "    </tr>\n",
       "  </tbody>\n",
       "</table>\n",
       "</div>"
      ],
      "text/plain": [
       "   Year AdministritiveArea  DrivingLiceses                 geo_point_2d  \\\n",
       "0  2012             Makkah          143954  21.628962766, 41.2636898334   \n",
       "1  1994             Makkah           75349  21.628962766, 41.2636898334   \n",
       "\n",
       "              x               y  \n",
       "0  21.628962766   41.2636898334  \n",
       "1  21.628962766   41.2636898334  "
      ]
     },
     "execution_count": 36,
     "metadata": {},
     "output_type": "execute_result"
    }
   ],
   "source": [
    "ksa_driv_lic.head(2)"
   ]
  },
  {
   "cell_type": "code",
   "execution_count": 37,
   "metadata": {},
   "outputs": [],
   "source": [
    "#change the type of x&y to numaric..\n",
    "ksa_driv_lic['x']=ksa_driv_lic['x'].apply(pd.to_numeric)\n",
    "ksa_driv_lic['y']=ksa_driv_lic['y'].apply(pd.to_numeric)"
   ]
  },
  {
   "cell_type": "code",
   "execution_count": 38,
   "metadata": {},
   "outputs": [],
   "source": [
    "#drop the column geo_point_2d\n",
    "ksa_driv_lic.drop(['geo_point_2d'], axis=1,inplace=True)"
   ]
  },
  {
   "cell_type": "markdown",
   "metadata": {},
   "source": [
    "- Fix any individual values preventing other columns from being the appropriate type."
   ]
  },
  {
   "cell_type": "code",
   "execution_count": 39,
   "metadata": {},
   "outputs": [
    {
     "data": {
      "text/plain": [
       "array(['Makkah', 'Madinah', 'Al-Qaseem', 'Eastern', 'Assir', 'Tabouk',\n",
       "       'Hail', 'Northern Boarder', 'Jazan', 'Najran', 'Al-Baha',\n",
       "       'Al-Jouf', 'Riyadh'], dtype=object)"
      ]
     },
     "execution_count": 39,
     "metadata": {},
     "output_type": "execute_result"
    }
   ],
   "source": [
    "#check the values using .unique()..\n",
    "ksa_driv_lic.AdministritiveArea.unique()"
   ]
  },
  {
   "cell_type": "code",
   "execution_count": 40,
   "metadata": {},
   "outputs": [],
   "source": [
    "#replace the names of the values in AdministritiveArea to match with the same values in the ksa_traff_accid in region columns, so that will help in merging later.. \n",
    "ksa_driv_lic.replace(to_replace =\"Al-Qaseem\", \n",
    "                 value =\"Qassim\",inplace=True) \n",
    "ksa_driv_lic.replace(to_replace =\"Eastern\", \n",
    "                 value =\"Eastern Region\",inplace=True)\n",
    "ksa_driv_lic.replace(to_replace =\"Assir\", \n",
    "                 value =\"Asir\",inplace=True)\n",
    "ksa_driv_lic.replace(to_replace =\"Al-Baha\", \n",
    "                 value =\"Al-Baaha\",inplace=True)"
   ]
  },
  {
   "cell_type": "code",
   "execution_count": 41,
   "metadata": {},
   "outputs": [
    {
     "data": {
      "text/plain": [
       "array(['Makkah', 'Madinah', 'Qassim', 'Eastern Region', 'Asir', 'Tabouk',\n",
       "       'Hail', 'Northern Boarder', 'Jazan', 'Najran', 'Al-Baaha',\n",
       "       'Al-Jouf', 'Riyadh'], dtype=object)"
      ]
     },
     "execution_count": 41,
     "metadata": {},
     "output_type": "execute_result"
    }
   ],
   "source": [
    "#check the values using .unique()..\n",
    "ksa_driv_lic.AdministritiveArea.unique()"
   ]
  },
  {
   "cell_type": "markdown",
   "metadata": {},
   "source": [
    "- Finish your data modifications by making sure the columns are now typed appropriately."
   ]
  },
  {
   "cell_type": "code",
   "execution_count": 42,
   "metadata": {},
   "outputs": [
    {
     "data": {
      "text/html": [
       "<div>\n",
       "<style scoped>\n",
       "    .dataframe tbody tr th:only-of-type {\n",
       "        vertical-align: middle;\n",
       "    }\n",
       "\n",
       "    .dataframe tbody tr th {\n",
       "        vertical-align: top;\n",
       "    }\n",
       "\n",
       "    .dataframe thead th {\n",
       "        text-align: right;\n",
       "    }\n",
       "</style>\n",
       "<table border=\"1\" class=\"dataframe\">\n",
       "  <thead>\n",
       "    <tr style=\"text-align: right;\">\n",
       "      <th></th>\n",
       "      <th>Year</th>\n",
       "      <th>Region</th>\n",
       "      <th>Indicator</th>\n",
       "      <th>Value</th>\n",
       "      <th>x</th>\n",
       "      <th>y</th>\n",
       "    </tr>\n",
       "  </thead>\n",
       "  <tbody>\n",
       "    <tr>\n",
       "      <td>0</td>\n",
       "      <td>2016</td>\n",
       "      <td>Makkah</td>\n",
       "      <td>No. of Casualties - Injured</td>\n",
       "      <td>12383</td>\n",
       "      <td>21.628963</td>\n",
       "      <td>41.26369</td>\n",
       "    </tr>\n",
       "    <tr>\n",
       "      <td>1</td>\n",
       "      <td>2016</td>\n",
       "      <td>Eastern Region</td>\n",
       "      <td>No. of Casualties - Dead</td>\n",
       "      <td>1113</td>\n",
       "      <td>23.288331</td>\n",
       "      <td>50.14783</td>\n",
       "    </tr>\n",
       "  </tbody>\n",
       "</table>\n",
       "</div>"
      ],
      "text/plain": [
       "   Year          Region                    Indicator  Value          x  \\\n",
       "0  2016          Makkah  No. of Casualties - Injured  12383  21.628963   \n",
       "1  2016  Eastern Region     No. of Casualties - Dead   1113  23.288331   \n",
       "\n",
       "          y  \n",
       "0  41.26369  \n",
       "1  50.14783  "
      ]
     },
     "execution_count": 42,
     "metadata": {},
     "output_type": "execute_result"
    }
   ],
   "source": [
    "ksa_traff_accid.head(2)"
   ]
  },
  {
   "cell_type": "code",
   "execution_count": 43,
   "metadata": {},
   "outputs": [
    {
     "data": {
      "text/html": [
       "<div>\n",
       "<style scoped>\n",
       "    .dataframe tbody tr th:only-of-type {\n",
       "        vertical-align: middle;\n",
       "    }\n",
       "\n",
       "    .dataframe tbody tr th {\n",
       "        vertical-align: top;\n",
       "    }\n",
       "\n",
       "    .dataframe thead th {\n",
       "        text-align: right;\n",
       "    }\n",
       "</style>\n",
       "<table border=\"1\" class=\"dataframe\">\n",
       "  <thead>\n",
       "    <tr style=\"text-align: right;\">\n",
       "      <th></th>\n",
       "      <th>Year</th>\n",
       "      <th>AdministritiveArea</th>\n",
       "      <th>DrivingLiceses</th>\n",
       "      <th>x</th>\n",
       "      <th>y</th>\n",
       "    </tr>\n",
       "  </thead>\n",
       "  <tbody>\n",
       "    <tr>\n",
       "      <td>0</td>\n",
       "      <td>2012</td>\n",
       "      <td>Makkah</td>\n",
       "      <td>143954</td>\n",
       "      <td>21.628963</td>\n",
       "      <td>41.26369</td>\n",
       "    </tr>\n",
       "    <tr>\n",
       "      <td>1</td>\n",
       "      <td>1994</td>\n",
       "      <td>Makkah</td>\n",
       "      <td>75349</td>\n",
       "      <td>21.628963</td>\n",
       "      <td>41.26369</td>\n",
       "    </tr>\n",
       "  </tbody>\n",
       "</table>\n",
       "</div>"
      ],
      "text/plain": [
       "   Year AdministritiveArea  DrivingLiceses          x         y\n",
       "0  2012             Makkah          143954  21.628963  41.26369\n",
       "1  1994             Makkah           75349  21.628963  41.26369"
      ]
     },
     "execution_count": 43,
     "metadata": {},
     "output_type": "execute_result"
    }
   ],
   "source": [
    "#code\n",
    "ksa_driv_lic.head(2)"
   ]
  },
  {
   "cell_type": "markdown",
   "metadata": {},
   "source": [
    "- Display the data types again to confirm they are correct."
   ]
  },
  {
   "cell_type": "code",
   "execution_count": 44,
   "metadata": {},
   "outputs": [
    {
     "data": {
      "text/plain": [
       "Year           int64\n",
       "Region        object\n",
       "Indicator     object\n",
       "Value          int64\n",
       "x            float64\n",
       "y            float64\n",
       "dtype: object"
      ]
     },
     "execution_count": 44,
     "metadata": {},
     "output_type": "execute_result"
    }
   ],
   "source": [
    "#Code:\n",
    "# Using .dtypes to display the type of features..\n",
    "ksa_traff_accid.dtypes"
   ]
  },
  {
   "cell_type": "code",
   "execution_count": 45,
   "metadata": {},
   "outputs": [
    {
     "data": {
      "text/plain": [
       "Year                    int64\n",
       "AdministritiveArea     object\n",
       "DrivingLiceses          int64\n",
       "x                     float64\n",
       "y                     float64\n",
       "dtype: object"
      ]
     },
     "execution_count": 45,
     "metadata": {},
     "output_type": "execute_result"
    }
   ],
   "source": [
    "# Using .dtypes to display the type of features..\n",
    "ksa_driv_lic.dtypes"
   ]
  },
  {
   "cell_type": "markdown",
   "metadata": {},
   "source": [
    "#### 7. Rename columns\n",
    "Change the names of the columns to more expressive names so that you can tell the difference the Driving Licenses  columns and the & Traffic Accidents columns. Your solution should map all column names being changed at once (no repeated singular name-changes). **We will be combining these two datasets, and so you should name columns in an appropriate way**.\n",
    "\n",
    "**Guidelines**:\n",
    "- Column names should be all lowercase (you will thank yourself when you start pushing data to SQL later in the course)\n",
    "- Column names should not contain spaces (underscores will suffice--this allows for using the `df.column_name` method to access columns in addition to `df['column_name']`.\n",
    "- Column names should be unique and informative (the only feature that we actually share between dataframes is the state).\n",
    "- Please also fix any typos you see in the column names."
   ]
  },
  {
   "cell_type": "code",
   "execution_count": 46,
   "metadata": {},
   "outputs": [
    {
     "data": {
      "text/html": [
       "<div>\n",
       "<style scoped>\n",
       "    .dataframe tbody tr th:only-of-type {\n",
       "        vertical-align: middle;\n",
       "    }\n",
       "\n",
       "    .dataframe tbody tr th {\n",
       "        vertical-align: top;\n",
       "    }\n",
       "\n",
       "    .dataframe thead th {\n",
       "        text-align: right;\n",
       "    }\n",
       "</style>\n",
       "<table border=\"1\" class=\"dataframe\">\n",
       "  <thead>\n",
       "    <tr style=\"text-align: right;\">\n",
       "      <th></th>\n",
       "      <th>year</th>\n",
       "      <th>region</th>\n",
       "      <th>indicator</th>\n",
       "      <th>value</th>\n",
       "      <th>latitude_accid</th>\n",
       "      <th>longitude_accid</th>\n",
       "    </tr>\n",
       "  </thead>\n",
       "  <tbody>\n",
       "    <tr>\n",
       "      <td>0</td>\n",
       "      <td>2016</td>\n",
       "      <td>Makkah</td>\n",
       "      <td>No. of Casualties - Injured</td>\n",
       "      <td>12383</td>\n",
       "      <td>21.628963</td>\n",
       "      <td>41.26369</td>\n",
       "    </tr>\n",
       "    <tr>\n",
       "      <td>1</td>\n",
       "      <td>2016</td>\n",
       "      <td>Eastern Region</td>\n",
       "      <td>No. of Casualties - Dead</td>\n",
       "      <td>1113</td>\n",
       "      <td>23.288331</td>\n",
       "      <td>50.14783</td>\n",
       "    </tr>\n",
       "  </tbody>\n",
       "</table>\n",
       "</div>"
      ],
      "text/plain": [
       "   year          region                    indicator  value  latitude_accid  \\\n",
       "0  2016          Makkah  No. of Casualties - Injured  12383       21.628963   \n",
       "1  2016  Eastern Region     No. of Casualties - Dead   1113       23.288331   \n",
       "\n",
       "   longitude_accid  \n",
       "0         41.26369  \n",
       "1         50.14783  "
      ]
     },
     "execution_count": 46,
     "metadata": {},
     "output_type": "execute_result"
    }
   ],
   "source": [
    "#code\n",
    "# using .rename for the columns..\n",
    "ksa_traff_accid.rename(columns={'Year':'year','Region':'region','Indicator':'indicator','Value':'value','x':'latitude_accid', 'y':'longitude_accid'},inplace=True)\n",
    "ksa_traff_accid.head(2)"
   ]
  },
  {
   "cell_type": "code",
   "execution_count": 47,
   "metadata": {},
   "outputs": [
    {
     "data": {
      "text/html": [
       "<div>\n",
       "<style scoped>\n",
       "    .dataframe tbody tr th:only-of-type {\n",
       "        vertical-align: middle;\n",
       "    }\n",
       "\n",
       "    .dataframe tbody tr th {\n",
       "        vertical-align: top;\n",
       "    }\n",
       "\n",
       "    .dataframe thead th {\n",
       "        text-align: right;\n",
       "    }\n",
       "</style>\n",
       "<table border=\"1\" class=\"dataframe\">\n",
       "  <thead>\n",
       "    <tr style=\"text-align: right;\">\n",
       "      <th></th>\n",
       "      <th>year</th>\n",
       "      <th>region</th>\n",
       "      <th>driving_licenses</th>\n",
       "      <th>latitude_lic</th>\n",
       "      <th>longitude_lic</th>\n",
       "    </tr>\n",
       "  </thead>\n",
       "  <tbody>\n",
       "    <tr>\n",
       "      <td>0</td>\n",
       "      <td>2012</td>\n",
       "      <td>Makkah</td>\n",
       "      <td>143954</td>\n",
       "      <td>21.628963</td>\n",
       "      <td>41.26369</td>\n",
       "    </tr>\n",
       "    <tr>\n",
       "      <td>1</td>\n",
       "      <td>1994</td>\n",
       "      <td>Makkah</td>\n",
       "      <td>75349</td>\n",
       "      <td>21.628963</td>\n",
       "      <td>41.26369</td>\n",
       "    </tr>\n",
       "  </tbody>\n",
       "</table>\n",
       "</div>"
      ],
      "text/plain": [
       "   year  region  driving_licenses  latitude_lic  longitude_lic\n",
       "0  2012  Makkah            143954     21.628963       41.26369\n",
       "1  1994  Makkah             75349     21.628963       41.26369"
      ]
     },
     "execution_count": 47,
     "metadata": {},
     "output_type": "execute_result"
    }
   ],
   "source": [
    "# using .rename for the columns..\n",
    "ksa_driv_lic.rename(columns={'Year':'year','AdministritiveArea':'region','DrivingLiceses':'driving_licenses','x':'latitude_lic', 'y':'longitude_lic'},inplace=True)\n",
    "ksa_driv_lic.head(2)"
   ]
  },
  {
   "cell_type": "markdown",
   "metadata": {},
   "source": [
    "#### 8. Create a data dictionary\n",
    "\n",
    "Now that we've fixed our data, and given it appropriate names, let's create a [data dictionary](http://library.ucmerced.edu/node/10249). \n",
    "\n",
    "A data dictionary provides a quick overview of features/variables/columns, alongside data types and descriptions. The more descriptive you can be, the more useful this document is.\n",
    "\n",
    "Example of a Fictional Data Dictionary Entry: \n",
    "\n",
    "|Feature|Type|Dataset|Description|\n",
    "|---|---|---|---|\n",
    "|**county_pop**|*integer*|2010 census|The population of the county (units in thousands, where 2.5 represents 2500 people).| \n",
    "|**per_poverty**|*float*|2010 census|The percent of the county over the age of 18 living below the 200% of official US poverty rate (units percent to two decimal places 98.10 means 98.1%)|\n",
    "\n",
    "[Here's a quick link to a short guide for formatting markdown in Jupyter notebooks](https://jupyter-notebook.readthedocs.io/en/stable/examples/Notebook/Working%20With%20Markdown%20Cells.html).\n",
    "\n",
    "Provided is the skeleton for formatting a markdown table, with columns headers that will help you create a data dictionary to quickly summarize your data, as well as some examples. **This would be a great thing to copy and paste into your custom README for this project.**"
   ]
  },
  {
   "cell_type": "markdown",
   "metadata": {},
   "source": [
    "|Feature|Type|Dataset|Description|\n",
    "|---|---|---|---|\n",
    "|**year**|int|ksa_traff_accid,ksa_driv_lic|The years when driving licenses were issued and traffic accidents recorded. |\n",
    "|**region**|object|ksa_traff_accid,ksa_driv_lic|The regions where driving licenses have been issued and traffic accidents recorded.|\n",
    "|**indicator**|object|ksa_traff_accid|Classification of data into accidents, deaths and injuries.|\n",
    "|**value**|int|ksa_traff_accid|Numbers of accidents, deaths and injuries.|\n",
    "|**driving_licenses**|int|ksa_driv_lic|Number of licenses issued.|\n",
    "|**latitude**|float|ksa_traff_accid,ksa_driv_lic|The latitude coordinate of the associated region.|\n",
    "|**longitude**|float|ksa_traff_accid,ksa_driv_lic|The longitude coordinate of the associated region.|"
   ]
  },
  {
   "cell_type": "markdown",
   "metadata": {},
   "source": [
    "#### 9. Drop unnecessary rows\n",
    "\n",
    "This study concerns accident and license in regions/area. Please do the followings:\n",
    "0. Which rows are not associated with regions?\n",
    "1. Confirm the numbers of all regions add up to total.\n",
    "2. Remove the rows that are not associated with regions"
   ]
  },
  {
   "cell_type": "code",
   "execution_count": 48,
   "metadata": {},
   "outputs": [
    {
     "data": {
      "text/plain": [
       "13"
      ]
     },
     "execution_count": 48,
     "metadata": {},
     "output_type": "execute_result"
    }
   ],
   "source": [
    "#Using the .nunique() to calculate the no.unique values.. \n",
    "ksa_traff_accid.region.nunique()"
   ]
  },
  {
   "cell_type": "code",
   "execution_count": 49,
   "metadata": {},
   "outputs": [
    {
     "data": {
      "text/plain": [
       "13"
      ]
     },
     "execution_count": 49,
     "metadata": {},
     "output_type": "execute_result"
    }
   ],
   "source": [
    "#code\n",
    "#Using the .nunique() to calculate the no.unique values..\n",
    "ksa_driv_lic.region.nunique()"
   ]
  },
  {
   "cell_type": "markdown",
   "metadata": {},
   "source": [
    "#### 10a. Data formats\n",
    "Is the License data in long or wide format? How about the Accident data? And why?"
   ]
  },
  {
   "cell_type": "code",
   "execution_count": 50,
   "metadata": {},
   "outputs": [
    {
     "data": {
      "text/html": [
       "<div>\n",
       "<style scoped>\n",
       "    .dataframe tbody tr th:only-of-type {\n",
       "        vertical-align: middle;\n",
       "    }\n",
       "\n",
       "    .dataframe tbody tr th {\n",
       "        vertical-align: top;\n",
       "    }\n",
       "\n",
       "    .dataframe thead th {\n",
       "        text-align: right;\n",
       "    }\n",
       "</style>\n",
       "<table border=\"1\" class=\"dataframe\">\n",
       "  <thead>\n",
       "    <tr style=\"text-align: right;\">\n",
       "      <th></th>\n",
       "      <th>indicator</th>\n",
       "      <th>No. of Accidents</th>\n",
       "      <th>No. of Casualties - Dead</th>\n",
       "      <th>No. of Casualties - Injured</th>\n",
       "    </tr>\n",
       "    <tr>\n",
       "      <th>year</th>\n",
       "      <th>region</th>\n",
       "      <th></th>\n",
       "      <th></th>\n",
       "      <th></th>\n",
       "    </tr>\n",
       "  </thead>\n",
       "  <tbody>\n",
       "    <tr>\n",
       "      <td rowspan=\"5\" valign=\"top\">2016</td>\n",
       "      <td>Al-Baaha</td>\n",
       "      <td>3618</td>\n",
       "      <td>185</td>\n",
       "      <td>1227</td>\n",
       "    </tr>\n",
       "    <tr>\n",
       "      <td>Al-Jouf</td>\n",
       "      <td>10212</td>\n",
       "      <td>245</td>\n",
       "      <td>920</td>\n",
       "    </tr>\n",
       "    <tr>\n",
       "      <td>Asir</td>\n",
       "      <td>32684</td>\n",
       "      <td>983</td>\n",
       "      <td>2541</td>\n",
       "    </tr>\n",
       "    <tr>\n",
       "      <td>Eastern Region</td>\n",
       "      <td>101619</td>\n",
       "      <td>1113</td>\n",
       "      <td>4893</td>\n",
       "    </tr>\n",
       "    <tr>\n",
       "      <td>Hail</td>\n",
       "      <td>10199</td>\n",
       "      <td>299</td>\n",
       "      <td>932</td>\n",
       "    </tr>\n",
       "  </tbody>\n",
       "</table>\n",
       "</div>"
      ],
      "text/plain": [
       "indicator            No. of Accidents  No. of Casualties - Dead  \\\n",
       "year region                                                       \n",
       "2016 Al-Baaha                    3618                       185   \n",
       "     Al-Jouf                    10212                       245   \n",
       "     Asir                       32684                       983   \n",
       "     Eastern Region            101619                      1113   \n",
       "     Hail                       10199                       299   \n",
       "\n",
       "indicator            No. of Casualties - Injured  \n",
       "year region                                       \n",
       "2016 Al-Baaha                               1227  \n",
       "     Al-Jouf                                 920  \n",
       "     Asir                                   2541  \n",
       "     Eastern Region                         4893  \n",
       "     Hail                                    932  "
      ]
     },
     "execution_count": 50,
     "metadata": {},
     "output_type": "execute_result"
    }
   ],
   "source": [
    "#Using .pivot_table to stored in MultiIndex objects (hierarchical indexes) on the columns..\n",
    "ksa_traff_accid_1= ksa_traff_accid.pivot_table(values='value',index=['year','region'],columns='indicator')\n",
    "ksa_traff_accid_1.head()"
   ]
  },
  {
   "cell_type": "code",
   "execution_count": 51,
   "metadata": {},
   "outputs": [
    {
     "data": {
      "text/html": [
       "<div>\n",
       "<style scoped>\n",
       "    .dataframe tbody tr th:only-of-type {\n",
       "        vertical-align: middle;\n",
       "    }\n",
       "\n",
       "    .dataframe tbody tr th {\n",
       "        vertical-align: top;\n",
       "    }\n",
       "\n",
       "    .dataframe thead th {\n",
       "        text-align: right;\n",
       "    }\n",
       "</style>\n",
       "<table border=\"1\" class=\"dataframe\">\n",
       "  <thead>\n",
       "    <tr style=\"text-align: right;\">\n",
       "      <th>indicator</th>\n",
       "      <th>year</th>\n",
       "      <th>region</th>\n",
       "      <th>No. of Accidents</th>\n",
       "      <th>No. of Casualties - Dead</th>\n",
       "      <th>No. of Casualties - Injured</th>\n",
       "    </tr>\n",
       "  </thead>\n",
       "  <tbody>\n",
       "    <tr>\n",
       "      <td>0</td>\n",
       "      <td>2016</td>\n",
       "      <td>Al-Baaha</td>\n",
       "      <td>3618</td>\n",
       "      <td>185</td>\n",
       "      <td>1227</td>\n",
       "    </tr>\n",
       "    <tr>\n",
       "      <td>1</td>\n",
       "      <td>2016</td>\n",
       "      <td>Al-Jouf</td>\n",
       "      <td>10212</td>\n",
       "      <td>245</td>\n",
       "      <td>920</td>\n",
       "    </tr>\n",
       "    <tr>\n",
       "      <td>2</td>\n",
       "      <td>2016</td>\n",
       "      <td>Asir</td>\n",
       "      <td>32684</td>\n",
       "      <td>983</td>\n",
       "      <td>2541</td>\n",
       "    </tr>\n",
       "    <tr>\n",
       "      <td>3</td>\n",
       "      <td>2016</td>\n",
       "      <td>Eastern Region</td>\n",
       "      <td>101619</td>\n",
       "      <td>1113</td>\n",
       "      <td>4893</td>\n",
       "    </tr>\n",
       "    <tr>\n",
       "      <td>4</td>\n",
       "      <td>2016</td>\n",
       "      <td>Hail</td>\n",
       "      <td>10199</td>\n",
       "      <td>299</td>\n",
       "      <td>932</td>\n",
       "    </tr>\n",
       "    <tr>\n",
       "      <td>5</td>\n",
       "      <td>2016</td>\n",
       "      <td>Jazan</td>\n",
       "      <td>25873</td>\n",
       "      <td>514</td>\n",
       "      <td>2259</td>\n",
       "    </tr>\n",
       "    <tr>\n",
       "      <td>6</td>\n",
       "      <td>2016</td>\n",
       "      <td>Madinah</td>\n",
       "      <td>14475</td>\n",
       "      <td>822</td>\n",
       "      <td>4184</td>\n",
       "    </tr>\n",
       "    <tr>\n",
       "      <td>7</td>\n",
       "      <td>2016</td>\n",
       "      <td>Makkah</td>\n",
       "      <td>134838</td>\n",
       "      <td>2243</td>\n",
       "      <td>12383</td>\n",
       "    </tr>\n",
       "    <tr>\n",
       "      <td>8</td>\n",
       "      <td>2016</td>\n",
       "      <td>Najran</td>\n",
       "      <td>3235</td>\n",
       "      <td>173</td>\n",
       "      <td>706</td>\n",
       "    </tr>\n",
       "    <tr>\n",
       "      <td>9</td>\n",
       "      <td>2016</td>\n",
       "      <td>Northern Boarder</td>\n",
       "      <td>13196</td>\n",
       "      <td>193</td>\n",
       "      <td>631</td>\n",
       "    </tr>\n",
       "    <tr>\n",
       "      <td>10</td>\n",
       "      <td>2016</td>\n",
       "      <td>Qassim</td>\n",
       "      <td>25664</td>\n",
       "      <td>397</td>\n",
       "      <td>1513</td>\n",
       "    </tr>\n",
       "    <tr>\n",
       "      <td>11</td>\n",
       "      <td>2016</td>\n",
       "      <td>Riyadh</td>\n",
       "      <td>141736</td>\n",
       "      <td>1430</td>\n",
       "      <td>4207</td>\n",
       "    </tr>\n",
       "    <tr>\n",
       "      <td>12</td>\n",
       "      <td>2016</td>\n",
       "      <td>Tabouk</td>\n",
       "      <td>16031</td>\n",
       "      <td>434</td>\n",
       "      <td>1724</td>\n",
       "    </tr>\n",
       "    <tr>\n",
       "      <td>13</td>\n",
       "      <td>2017</td>\n",
       "      <td>Al-Baaha</td>\n",
       "      <td>1414</td>\n",
       "      <td>134</td>\n",
       "      <td>1007</td>\n",
       "    </tr>\n",
       "    <tr>\n",
       "      <td>14</td>\n",
       "      <td>2017</td>\n",
       "      <td>Al-Jouf</td>\n",
       "      <td>10469</td>\n",
       "      <td>240</td>\n",
       "      <td>862</td>\n",
       "    </tr>\n",
       "    <tr>\n",
       "      <td>15</td>\n",
       "      <td>2017</td>\n",
       "      <td>Asir</td>\n",
       "      <td>25245</td>\n",
       "      <td>828</td>\n",
       "      <td>2368</td>\n",
       "    </tr>\n",
       "    <tr>\n",
       "      <td>16</td>\n",
       "      <td>2017</td>\n",
       "      <td>Eastern Region</td>\n",
       "      <td>81433</td>\n",
       "      <td>963</td>\n",
       "      <td>4073</td>\n",
       "    </tr>\n",
       "    <tr>\n",
       "      <td>17</td>\n",
       "      <td>2017</td>\n",
       "      <td>Hail</td>\n",
       "      <td>9379</td>\n",
       "      <td>265</td>\n",
       "      <td>773</td>\n",
       "    </tr>\n",
       "    <tr>\n",
       "      <td>18</td>\n",
       "      <td>2017</td>\n",
       "      <td>Jazan</td>\n",
       "      <td>22161</td>\n",
       "      <td>466</td>\n",
       "      <td>2207</td>\n",
       "    </tr>\n",
       "    <tr>\n",
       "      <td>19</td>\n",
       "      <td>2017</td>\n",
       "      <td>Madinah</td>\n",
       "      <td>16070</td>\n",
       "      <td>580</td>\n",
       "      <td>2917</td>\n",
       "    </tr>\n",
       "    <tr>\n",
       "      <td>20</td>\n",
       "      <td>2017</td>\n",
       "      <td>Makkah</td>\n",
       "      <td>145541</td>\n",
       "      <td>1641</td>\n",
       "      <td>10623</td>\n",
       "    </tr>\n",
       "    <tr>\n",
       "      <td>21</td>\n",
       "      <td>2017</td>\n",
       "      <td>Najran</td>\n",
       "      <td>3193</td>\n",
       "      <td>194</td>\n",
       "      <td>766</td>\n",
       "    </tr>\n",
       "    <tr>\n",
       "      <td>22</td>\n",
       "      <td>2017</td>\n",
       "      <td>Northern Boarder</td>\n",
       "      <td>11540</td>\n",
       "      <td>112</td>\n",
       "      <td>374</td>\n",
       "    </tr>\n",
       "    <tr>\n",
       "      <td>23</td>\n",
       "      <td>2017</td>\n",
       "      <td>Qassim</td>\n",
       "      <td>22405</td>\n",
       "      <td>319</td>\n",
       "      <td>1446</td>\n",
       "    </tr>\n",
       "    <tr>\n",
       "      <td>24</td>\n",
       "      <td>2017</td>\n",
       "      <td>Riyadh</td>\n",
       "      <td>99925</td>\n",
       "      <td>1399</td>\n",
       "      <td>4540</td>\n",
       "    </tr>\n",
       "    <tr>\n",
       "      <td>25</td>\n",
       "      <td>2017</td>\n",
       "      <td>Tabouk</td>\n",
       "      <td>11713</td>\n",
       "      <td>348</td>\n",
       "      <td>1243</td>\n",
       "    </tr>\n",
       "  </tbody>\n",
       "</table>\n",
       "</div>"
      ],
      "text/plain": [
       "indicator  year            region  No. of Accidents  No. of Casualties - Dead  \\\n",
       "0          2016          Al-Baaha              3618                       185   \n",
       "1          2016           Al-Jouf             10212                       245   \n",
       "2          2016              Asir             32684                       983   \n",
       "3          2016    Eastern Region            101619                      1113   \n",
       "4          2016              Hail             10199                       299   \n",
       "5          2016             Jazan             25873                       514   \n",
       "6          2016           Madinah             14475                       822   \n",
       "7          2016            Makkah            134838                      2243   \n",
       "8          2016            Najran              3235                       173   \n",
       "9          2016  Northern Boarder             13196                       193   \n",
       "10         2016            Qassim             25664                       397   \n",
       "11         2016            Riyadh            141736                      1430   \n",
       "12         2016            Tabouk             16031                       434   \n",
       "13         2017          Al-Baaha              1414                       134   \n",
       "14         2017           Al-Jouf             10469                       240   \n",
       "15         2017              Asir             25245                       828   \n",
       "16         2017    Eastern Region             81433                       963   \n",
       "17         2017              Hail              9379                       265   \n",
       "18         2017             Jazan             22161                       466   \n",
       "19         2017           Madinah             16070                       580   \n",
       "20         2017            Makkah            145541                      1641   \n",
       "21         2017            Najran              3193                       194   \n",
       "22         2017  Northern Boarder             11540                       112   \n",
       "23         2017            Qassim             22405                       319   \n",
       "24         2017            Riyadh             99925                      1399   \n",
       "25         2017            Tabouk             11713                       348   \n",
       "\n",
       "indicator  No. of Casualties - Injured  \n",
       "0                                 1227  \n",
       "1                                  920  \n",
       "2                                 2541  \n",
       "3                                 4893  \n",
       "4                                  932  \n",
       "5                                 2259  \n",
       "6                                 4184  \n",
       "7                                12383  \n",
       "8                                  706  \n",
       "9                                  631  \n",
       "10                                1513  \n",
       "11                                4207  \n",
       "12                                1724  \n",
       "13                                1007  \n",
       "14                                 862  \n",
       "15                                2368  \n",
       "16                                4073  \n",
       "17                                 773  \n",
       "18                                2207  \n",
       "19                                2917  \n",
       "20                               10623  \n",
       "21                                 766  \n",
       "22                                 374  \n",
       "23                                1446  \n",
       "24                                4540  \n",
       "25                                1243  "
      ]
     },
     "execution_count": 51,
     "metadata": {},
     "output_type": "execute_result"
    }
   ],
   "source": [
    "#Reset the index of the DataFrame..\n",
    "ksa_traff_accid_1.reset_index()"
   ]
  },
  {
   "cell_type": "code",
   "execution_count": 52,
   "metadata": {},
   "outputs": [],
   "source": [
    "# remove the name of the index\n",
    "ksa_traff_accid_1.index.name= None"
   ]
  },
  {
   "cell_type": "code",
   "execution_count": 53,
   "metadata": {},
   "outputs": [
    {
     "data": {
      "text/html": [
       "<div>\n",
       "<style scoped>\n",
       "    .dataframe tbody tr th:only-of-type {\n",
       "        vertical-align: middle;\n",
       "    }\n",
       "\n",
       "    .dataframe tbody tr th {\n",
       "        vertical-align: top;\n",
       "    }\n",
       "\n",
       "    .dataframe thead th {\n",
       "        text-align: right;\n",
       "    }\n",
       "</style>\n",
       "<table border=\"1\" class=\"dataframe\">\n",
       "  <thead>\n",
       "    <tr style=\"text-align: right;\">\n",
       "      <th></th>\n",
       "      <th>indicator</th>\n",
       "      <th>accidents</th>\n",
       "      <th>death</th>\n",
       "      <th>injured</th>\n",
       "    </tr>\n",
       "    <tr>\n",
       "      <th>year</th>\n",
       "      <th>region</th>\n",
       "      <th></th>\n",
       "      <th></th>\n",
       "      <th></th>\n",
       "    </tr>\n",
       "  </thead>\n",
       "  <tbody>\n",
       "    <tr>\n",
       "      <td rowspan=\"2\" valign=\"top\">2016</td>\n",
       "      <td>Al-Baaha</td>\n",
       "      <td>3618</td>\n",
       "      <td>185</td>\n",
       "      <td>1227</td>\n",
       "    </tr>\n",
       "    <tr>\n",
       "      <td>Al-Jouf</td>\n",
       "      <td>10212</td>\n",
       "      <td>245</td>\n",
       "      <td>920</td>\n",
       "    </tr>\n",
       "  </tbody>\n",
       "</table>\n",
       "</div>"
      ],
      "text/plain": [
       "indicator      accidents  death  injured\n",
       "year region                             \n",
       "2016 Al-Baaha       3618    185     1227\n",
       "     Al-Jouf       10212    245      920"
      ]
     },
     "execution_count": 53,
     "metadata": {},
     "output_type": "execute_result"
    }
   ],
   "source": [
    "# Using .rename to change the names of the columns..\n",
    "ksa_traff_accid_1.rename(columns={'No. of Accidents':'accidents','No. of Casualties - Dead':'death','No. of Casualties - Injured':'injured'},inplace=True)\n",
    "ksa_traff_accid_1.head(2)"
   ]
  },
  {
   "cell_type": "markdown",
   "metadata": {},
   "source": [
    "#### 10b. Changing formats\n",
    "Which format would work best for both dataframes? Transform the datasets to the same format before merging in the next task."
   ]
  },
  {
   "cell_type": "code",
   "execution_count": 54,
   "metadata": {
    "scrolled": true
   },
   "outputs": [],
   "source": [
    "#I did change the regions names in Q6.."
   ]
  },
  {
   "cell_type": "markdown",
   "metadata": {},
   "source": [
    "#### 11. Merge dataframes\n",
    "\n",
    "Join the Driving Licenses & Traffic Accidents dataframes using the **region** and **year** in each dataframe as the key. Assign this to a new variable. Which join should you use to preserve the most data?"
   ]
  },
  {
   "cell_type": "code",
   "execution_count": 55,
   "metadata": {},
   "outputs": [
    {
     "data": {
      "text/html": [
       "<div>\n",
       "<style scoped>\n",
       "    .dataframe tbody tr th:only-of-type {\n",
       "        vertical-align: middle;\n",
       "    }\n",
       "\n",
       "    .dataframe tbody tr th {\n",
       "        vertical-align: top;\n",
       "    }\n",
       "\n",
       "    .dataframe thead th {\n",
       "        text-align: right;\n",
       "    }\n",
       "</style>\n",
       "<table border=\"1\" class=\"dataframe\">\n",
       "  <thead>\n",
       "    <tr style=\"text-align: right;\">\n",
       "      <th></th>\n",
       "      <th>year</th>\n",
       "      <th>region</th>\n",
       "      <th>accidents</th>\n",
       "      <th>death</th>\n",
       "      <th>injured</th>\n",
       "      <th>driving_licenses</th>\n",
       "      <th>latitude_lic</th>\n",
       "      <th>longitude_lic</th>\n",
       "      <th>_merge</th>\n",
       "    </tr>\n",
       "  </thead>\n",
       "  <tbody>\n",
       "    <tr>\n",
       "      <td>0</td>\n",
       "      <td>2016</td>\n",
       "      <td>Al-Baaha</td>\n",
       "      <td>3618.0</td>\n",
       "      <td>185.0</td>\n",
       "      <td>1227.0</td>\n",
       "      <td>4614</td>\n",
       "      <td>20.148406</td>\n",
       "      <td>41.466548</td>\n",
       "      <td>both</td>\n",
       "    </tr>\n",
       "    <tr>\n",
       "      <td>1</td>\n",
       "      <td>2016</td>\n",
       "      <td>Al-Jouf</td>\n",
       "      <td>10212.0</td>\n",
       "      <td>245.0</td>\n",
       "      <td>920.0</td>\n",
       "      <td>9371</td>\n",
       "      <td>29.967745</td>\n",
       "      <td>39.557037</td>\n",
       "      <td>both</td>\n",
       "    </tr>\n",
       "    <tr>\n",
       "      <td>2</td>\n",
       "      <td>2016</td>\n",
       "      <td>Asir</td>\n",
       "      <td>32684.0</td>\n",
       "      <td>983.0</td>\n",
       "      <td>2541.0</td>\n",
       "      <td>41367</td>\n",
       "      <td>19.138785</td>\n",
       "      <td>42.941470</td>\n",
       "      <td>both</td>\n",
       "    </tr>\n",
       "    <tr>\n",
       "      <td>3</td>\n",
       "      <td>2016</td>\n",
       "      <td>Eastern Region</td>\n",
       "      <td>101619.0</td>\n",
       "      <td>1113.0</td>\n",
       "      <td>4893.0</td>\n",
       "      <td>142307</td>\n",
       "      <td>23.288331</td>\n",
       "      <td>50.147830</td>\n",
       "      <td>both</td>\n",
       "    </tr>\n",
       "    <tr>\n",
       "      <td>4</td>\n",
       "      <td>2016</td>\n",
       "      <td>Hail</td>\n",
       "      <td>10199.0</td>\n",
       "      <td>299.0</td>\n",
       "      <td>932.0</td>\n",
       "      <td>54507</td>\n",
       "      <td>27.400846</td>\n",
       "      <td>41.440696</td>\n",
       "      <td>both</td>\n",
       "    </tr>\n",
       "  </tbody>\n",
       "</table>\n",
       "</div>"
      ],
      "text/plain": [
       "   year          region  accidents   death  injured  driving_licenses  \\\n",
       "0  2016        Al-Baaha     3618.0   185.0   1227.0              4614   \n",
       "1  2016         Al-Jouf    10212.0   245.0    920.0              9371   \n",
       "2  2016            Asir    32684.0   983.0   2541.0             41367   \n",
       "3  2016  Eastern Region   101619.0  1113.0   4893.0            142307   \n",
       "4  2016            Hail    10199.0   299.0    932.0             54507   \n",
       "\n",
       "   latitude_lic  longitude_lic _merge  \n",
       "0     20.148406      41.466548   both  \n",
       "1     29.967745      39.557037   both  \n",
       "2     19.138785      42.941470   both  \n",
       "3     23.288331      50.147830   both  \n",
       "4     27.400846      41.440696   both  "
      ]
     },
     "execution_count": 55,
     "metadata": {},
     "output_type": "execute_result"
    }
   ],
   "source": [
    "# using outer merge for ksa_traff_accid,ksa_driv_lic dataframes to  to preserve the most data and combines all the rows for left and right dataframes.. \n",
    "both_accid_lic= pd.merge(ksa_traff_accid_1,ksa_driv_lic, on=['year','region'], how='outer', indicator=True)\n",
    "both_accid_lic.head()"
   ]
  },
  {
   "cell_type": "code",
   "execution_count": 56,
   "metadata": {},
   "outputs": [
    {
     "data": {
      "text/html": [
       "<div>\n",
       "<style scoped>\n",
       "    .dataframe tbody tr th:only-of-type {\n",
       "        vertical-align: middle;\n",
       "    }\n",
       "\n",
       "    .dataframe tbody tr th {\n",
       "        vertical-align: top;\n",
       "    }\n",
       "\n",
       "    .dataframe thead th {\n",
       "        text-align: right;\n",
       "    }\n",
       "</style>\n",
       "<table border=\"1\" class=\"dataframe\">\n",
       "  <thead>\n",
       "    <tr style=\"text-align: right;\">\n",
       "      <th></th>\n",
       "      <th>year</th>\n",
       "      <th>region</th>\n",
       "      <th>accidents</th>\n",
       "      <th>death</th>\n",
       "      <th>injured</th>\n",
       "      <th>driving_licenses</th>\n",
       "      <th>latitude_lic</th>\n",
       "      <th>longitude_lic</th>\n",
       "    </tr>\n",
       "  </thead>\n",
       "  <tbody>\n",
       "    <tr>\n",
       "      <td>0</td>\n",
       "      <td>2016</td>\n",
       "      <td>Al-Baaha</td>\n",
       "      <td>3618</td>\n",
       "      <td>185</td>\n",
       "      <td>1227</td>\n",
       "      <td>4614</td>\n",
       "      <td>20.148406</td>\n",
       "      <td>41.466548</td>\n",
       "    </tr>\n",
       "    <tr>\n",
       "      <td>1</td>\n",
       "      <td>2016</td>\n",
       "      <td>Al-Jouf</td>\n",
       "      <td>10212</td>\n",
       "      <td>245</td>\n",
       "      <td>920</td>\n",
       "      <td>9371</td>\n",
       "      <td>29.967745</td>\n",
       "      <td>39.557037</td>\n",
       "    </tr>\n",
       "    <tr>\n",
       "      <td>2</td>\n",
       "      <td>2016</td>\n",
       "      <td>Asir</td>\n",
       "      <td>32684</td>\n",
       "      <td>983</td>\n",
       "      <td>2541</td>\n",
       "      <td>41367</td>\n",
       "      <td>19.138785</td>\n",
       "      <td>42.941470</td>\n",
       "    </tr>\n",
       "    <tr>\n",
       "      <td>3</td>\n",
       "      <td>2016</td>\n",
       "      <td>Eastern Region</td>\n",
       "      <td>101619</td>\n",
       "      <td>1113</td>\n",
       "      <td>4893</td>\n",
       "      <td>142307</td>\n",
       "      <td>23.288331</td>\n",
       "      <td>50.147830</td>\n",
       "    </tr>\n",
       "    <tr>\n",
       "      <td>4</td>\n",
       "      <td>2016</td>\n",
       "      <td>Hail</td>\n",
       "      <td>10199</td>\n",
       "      <td>299</td>\n",
       "      <td>932</td>\n",
       "      <td>54507</td>\n",
       "      <td>27.400846</td>\n",
       "      <td>41.440696</td>\n",
       "    </tr>\n",
       "  </tbody>\n",
       "</table>\n",
       "</div>"
      ],
      "text/plain": [
       "   year          region  accidents  death  injured  driving_licenses  \\\n",
       "0  2016        Al-Baaha       3618    185     1227              4614   \n",
       "1  2016         Al-Jouf      10212    245      920              9371   \n",
       "2  2016            Asir      32684    983     2541             41367   \n",
       "3  2016  Eastern Region     101619   1113     4893            142307   \n",
       "4  2016            Hail      10199    299      932             54507   \n",
       "\n",
       "   latitude_lic  longitude_lic  \n",
       "0     20.148406      41.466548  \n",
       "1     29.967745      39.557037  \n",
       "2     19.138785      42.941470  \n",
       "3     23.288331      50.147830  \n",
       "4     27.400846      41.440696  "
      ]
     },
     "execution_count": 56,
     "metadata": {},
     "output_type": "execute_result"
    }
   ],
   "source": [
    "#using inner merge for keeps only the common values in both the left and right dataframes to have a good values with out Nan.\n",
    "both_accid_lic= pd.merge(ksa_traff_accid_1,ksa_driv_lic, on=['year','region'], how='inner')\n",
    "both_accid_lic.head()"
   ]
  },
  {
   "cell_type": "markdown",
   "metadata": {},
   "source": [
    "#### 12. Save your cleaned, merged dataframe\n",
    "\n",
    "Use a relative path to save out your data as `combined_datasets.csv`."
   ]
  },
  {
   "cell_type": "code",
   "execution_count": 57,
   "metadata": {},
   "outputs": [],
   "source": [
    "#code\n",
    "# save the data after the merge..\n",
    "both_accid_lic.to_csv('combined_datasets.csv')"
   ]
  },
  {
   "cell_type": "markdown",
   "metadata": {},
   "source": [
    "## Exploratory Data Analysis\n",
    "\n",
    "\n",
    "### Summary Statistics\n",
    "Transpose the output of pandas `describe` method to create a quick overview of each numeric feature."
   ]
  },
  {
   "cell_type": "code",
   "execution_count": 58,
   "metadata": {},
   "outputs": [
    {
     "data": {
      "text/html": [
       "<div>\n",
       "<style scoped>\n",
       "    .dataframe tbody tr th:only-of-type {\n",
       "        vertical-align: middle;\n",
       "    }\n",
       "\n",
       "    .dataframe tbody tr th {\n",
       "        vertical-align: top;\n",
       "    }\n",
       "\n",
       "    .dataframe thead th {\n",
       "        text-align: right;\n",
       "    }\n",
       "</style>\n",
       "<table border=\"1\" class=\"dataframe\">\n",
       "  <thead>\n",
       "    <tr style=\"text-align: right;\">\n",
       "      <th></th>\n",
       "      <th>year</th>\n",
       "      <th>accidents</th>\n",
       "      <th>death</th>\n",
       "      <th>injured</th>\n",
       "      <th>driving_licenses</th>\n",
       "      <th>latitude_lic</th>\n",
       "      <th>longitude_lic</th>\n",
       "    </tr>\n",
       "  </thead>\n",
       "  <tbody>\n",
       "    <tr>\n",
       "      <td>count</td>\n",
       "      <td>26.000000</td>\n",
       "      <td>26.000000</td>\n",
       "      <td>26.000000</td>\n",
       "      <td>26.000000</td>\n",
       "      <td>26.000000</td>\n",
       "      <td>26.000000</td>\n",
       "      <td>26.000000</td>\n",
       "    </tr>\n",
       "    <tr>\n",
       "      <td>mean</td>\n",
       "      <td>2016.500000</td>\n",
       "      <td>38225.692308</td>\n",
       "      <td>635.384615</td>\n",
       "      <td>2743.038462</td>\n",
       "      <td>62507.000000</td>\n",
       "      <td>23.810447</td>\n",
       "      <td>42.602789</td>\n",
       "    </tr>\n",
       "    <tr>\n",
       "      <td>std</td>\n",
       "      <td>0.509902</td>\n",
       "      <td>46493.705035</td>\n",
       "      <td>549.783381</td>\n",
       "      <td>2922.641127</td>\n",
       "      <td>107293.917762</td>\n",
       "      <td>4.274533</td>\n",
       "      <td>3.313532</td>\n",
       "    </tr>\n",
       "    <tr>\n",
       "      <td>min</td>\n",
       "      <td>2016.000000</td>\n",
       "      <td>1414.000000</td>\n",
       "      <td>112.000000</td>\n",
       "      <td>374.000000</td>\n",
       "      <td>2153.000000</td>\n",
       "      <td>17.207231</td>\n",
       "      <td>37.259858</td>\n",
       "    </tr>\n",
       "    <tr>\n",
       "      <td>25%</td>\n",
       "      <td>2016.000000</td>\n",
       "      <td>10276.250000</td>\n",
       "      <td>241.250000</td>\n",
       "      <td>923.000000</td>\n",
       "      <td>8363.250000</td>\n",
       "      <td>20.148406</td>\n",
       "      <td>41.263690</td>\n",
       "    </tr>\n",
       "    <tr>\n",
       "      <td>50%</td>\n",
       "      <td>2016.500000</td>\n",
       "      <td>16050.500000</td>\n",
       "      <td>415.500000</td>\n",
       "      <td>1618.500000</td>\n",
       "      <td>16085.000000</td>\n",
       "      <td>23.288331</td>\n",
       "      <td>41.817119</td>\n",
       "    </tr>\n",
       "    <tr>\n",
       "      <td>75%</td>\n",
       "      <td>2017.000000</td>\n",
       "      <td>30981.250000</td>\n",
       "      <td>929.250000</td>\n",
       "      <td>3784.000000</td>\n",
       "      <td>51222.000000</td>\n",
       "      <td>27.400846</td>\n",
       "      <td>43.343000</td>\n",
       "    </tr>\n",
       "    <tr>\n",
       "      <td>max</td>\n",
       "      <td>2017.000000</td>\n",
       "      <td>145541.000000</td>\n",
       "      <td>2243.000000</td>\n",
       "      <td>12383.000000</td>\n",
       "      <td>495307.000000</td>\n",
       "      <td>30.197075</td>\n",
       "      <td>50.147830</td>\n",
       "    </tr>\n",
       "  </tbody>\n",
       "</table>\n",
       "</div>"
      ],
      "text/plain": [
       "              year      accidents        death       injured  \\\n",
       "count    26.000000      26.000000    26.000000     26.000000   \n",
       "mean   2016.500000   38225.692308   635.384615   2743.038462   \n",
       "std       0.509902   46493.705035   549.783381   2922.641127   \n",
       "min    2016.000000    1414.000000   112.000000    374.000000   \n",
       "25%    2016.000000   10276.250000   241.250000    923.000000   \n",
       "50%    2016.500000   16050.500000   415.500000   1618.500000   \n",
       "75%    2017.000000   30981.250000   929.250000   3784.000000   \n",
       "max    2017.000000  145541.000000  2243.000000  12383.000000   \n",
       "\n",
       "       driving_licenses  latitude_lic  longitude_lic  \n",
       "count         26.000000     26.000000      26.000000  \n",
       "mean       62507.000000     23.810447      42.602789  \n",
       "std       107293.917762      4.274533       3.313532  \n",
       "min         2153.000000     17.207231      37.259858  \n",
       "25%         8363.250000     20.148406      41.263690  \n",
       "50%        16085.000000     23.288331      41.817119  \n",
       "75%        51222.000000     27.400846      43.343000  \n",
       "max       495307.000000     30.197075      50.147830  "
      ]
     },
     "execution_count": 58,
     "metadata": {},
     "output_type": "execute_result"
    }
   ],
   "source": [
    "#Code:\n",
    "#using .describe() \n",
    "both_accid_lic.describe()"
   ]
  },
  {
   "cell_type": "markdown",
   "metadata": {},
   "source": [
    "#### Manually calculate standard deviation\n",
    "\n",
    "$$\\sigma = \\sqrt{\\frac{1}{n}\\sum_{i=1}^n(x_i - \\mu)^2}$$\n",
    "\n",
    "- Write a function to calculate standard deviation using the formula above"
   ]
  },
  {
   "cell_type": "code",
   "execution_count": 59,
   "metadata": {},
   "outputs": [],
   "source": [
    "#calculate the std for numaric values..\n",
    "def stdev(data):\n",
    "    average = np.mean(data)\n",
    "    v_list = []\n",
    "    for x in data:\n",
    "        var = (x-average)**2\n",
    "        v_list.append(var)\n",
    "    sqrt_er = np.sqrt(sum(v_list) / len(v_list))\n",
    "    return sqrt_er"
   ]
  },
  {
   "cell_type": "markdown",
   "metadata": {},
   "source": [
    "- Use a **dictionary comprehension** to apply your standard deviation function to each numeric column in the dataframe.  **No loops**  \n",
    "- Assign the output to variable `sd` as a dictionary where: \n",
    "    - Each column name is now a key \n",
    "    - That standard deviation of the column is the value \n",
    "     \n",
    "*Example Output :* `{'Driving_Licenses_x': 120, 'Traffic_Accidents_x': 120, ...}`"
   ]
  },
  {
   "cell_type": "code",
   "execution_count": 60,
   "metadata": {},
   "outputs": [
    {
     "data": {
      "text/plain": [
       "Index(['accidents', 'death', 'injured', 'driving_licenses'], dtype='object')"
      ]
     },
     "execution_count": 60,
     "metadata": {},
     "output_type": "execute_result"
    }
   ],
   "source": [
    "# Creating a data set with only numeric columns from 'both_accid_lic' dataset\n",
    "both_numeric = both_accid_lic[['accidents', 'death','injured', 'driving_licenses']]\n",
    "both_numeric.columns"
   ]
  },
  {
   "cell_type": "code",
   "execution_count": 61,
   "metadata": {},
   "outputs": [
    {
     "data": {
      "text/plain": [
       "{'accidents': 45590.82869880505,\n",
       " 'death': 539.1069593406002,\n",
       " 'injured': 2865.885411322023,\n",
       " 'driving_licenses': 105210.34237659337}"
      ]
     },
     "execution_count": 61,
     "metadata": {},
     "output_type": "execute_result"
    }
   ],
   "source": [
    "#Code:\n",
    "# Dict comprehension\n",
    "sd = {both_numeric.columns[i]:stdev(both_numeric[x].values) for i, x in enumerate(both_numeric.columns)}\n",
    "sd"
   ]
  },
  {
   "cell_type": "markdown",
   "metadata": {},
   "source": [
    "Do your manually calculated standard deviations match up with the output from pandas `describe`? What about numpy's `std` method?"
   ]
  },
  {
   "cell_type": "markdown",
   "metadata": {},
   "source": [
    "Answer:"
   ]
  },
  {
   "cell_type": "markdown",
   "metadata": {},
   "source": [
    "#### Investigate trends in the data\n",
    "Using sorting and/or masking (along with the `.head` method to not print our entire dataframe), consider the following questions:\n",
    "\n",
    "- Which regions have the highest and lowest Driving Licenses based on years (1993 - 2017)\n",
    "- Which regions have the highest and lowest mean Traffic Accidents numbers for years (2016 - 2017)\n",
    "- What are the regions that have more Driving Licenses issued in each year than the year average?\n",
    "- What are the regions that have more Traffic Accidents happened in each year than the year average?\n",
    "\n",
    "Based on what you've just observed, have you identified any regions that you're especially interested in? **Make a note of these and state *why* you think they're interesting**.\n",
    "\n",
    "**You should comment on your findings at each step in a markdown cell below your code block**. Make sure you include at least one example of sorting your dataframe by a column, and one example of using boolean filtering (i.e., masking) to select a subset of the dataframe."
   ]
  },
  {
   "cell_type": "code",
   "execution_count": 62,
   "metadata": {},
   "outputs": [
    {
     "data": {
      "text/html": [
       "<div>\n",
       "<style scoped>\n",
       "    .dataframe tbody tr th:only-of-type {\n",
       "        vertical-align: middle;\n",
       "    }\n",
       "\n",
       "    .dataframe tbody tr th {\n",
       "        vertical-align: top;\n",
       "    }\n",
       "\n",
       "    .dataframe thead th {\n",
       "        text-align: right;\n",
       "    }\n",
       "</style>\n",
       "<table border=\"1\" class=\"dataframe\">\n",
       "  <thead>\n",
       "    <tr style=\"text-align: right;\">\n",
       "      <th></th>\n",
       "      <th>year</th>\n",
       "      <th>region</th>\n",
       "      <th>driving_licenses</th>\n",
       "      <th>latitude_lic</th>\n",
       "      <th>longitude_lic</th>\n",
       "    </tr>\n",
       "  </thead>\n",
       "  <tbody>\n",
       "    <tr>\n",
       "      <td>292</td>\n",
       "      <td>2017</td>\n",
       "      <td>Riyadh</td>\n",
       "      <td>495307</td>\n",
       "      <td>23.081434</td>\n",
       "      <td>45.585751</td>\n",
       "    </tr>\n",
       "    <tr>\n",
       "      <td>293</td>\n",
       "      <td>2016</td>\n",
       "      <td>Riyadh</td>\n",
       "      <td>242851</td>\n",
       "      <td>23.081434</td>\n",
       "      <td>45.585751</td>\n",
       "    </tr>\n",
       "    <tr>\n",
       "      <td>155</td>\n",
       "      <td>2014</td>\n",
       "      <td>Riyadh</td>\n",
       "      <td>194208</td>\n",
       "      <td>23.081434</td>\n",
       "      <td>45.585751</td>\n",
       "    </tr>\n",
       "    <tr>\n",
       "      <td>65</td>\n",
       "      <td>2013</td>\n",
       "      <td>Riyadh</td>\n",
       "      <td>165994</td>\n",
       "      <td>23.081434</td>\n",
       "      <td>45.585751</td>\n",
       "    </tr>\n",
       "    <tr>\n",
       "      <td>68</td>\n",
       "      <td>2015</td>\n",
       "      <td>Makkah</td>\n",
       "      <td>157389</td>\n",
       "      <td>21.628963</td>\n",
       "      <td>41.263690</td>\n",
       "    </tr>\n",
       "    <tr>\n",
       "      <td>95</td>\n",
       "      <td>2011</td>\n",
       "      <td>Eastern Region</td>\n",
       "      <td>151087</td>\n",
       "      <td>23.288331</td>\n",
       "      <td>50.147830</td>\n",
       "    </tr>\n",
       "    <tr>\n",
       "      <td>72</td>\n",
       "      <td>2014</td>\n",
       "      <td>Makkah</td>\n",
       "      <td>149234</td>\n",
       "      <td>21.628963</td>\n",
       "      <td>41.263690</td>\n",
       "    </tr>\n",
       "  </tbody>\n",
       "</table>\n",
       "</div>"
      ],
      "text/plain": [
       "     year          region  driving_licenses  latitude_lic  longitude_lic\n",
       "292  2017          Riyadh            495307     23.081434      45.585751\n",
       "293  2016          Riyadh            242851     23.081434      45.585751\n",
       "155  2014          Riyadh            194208     23.081434      45.585751\n",
       "65   2013          Riyadh            165994     23.081434      45.585751\n",
       "68   2015          Makkah            157389     21.628963      41.263690\n",
       "95   2011  Eastern Region            151087     23.288331      50.147830\n",
       "72   2014          Makkah            149234     21.628963      41.263690"
      ]
     },
     "execution_count": 62,
     "metadata": {},
     "output_type": "execute_result"
    }
   ],
   "source": [
    "#code\n",
    "# Regions with highest and lowest Driving Licenses based on years (1993 - 2017)..\n",
    "ksa_driv_lic = ksa_driv_lic.sort_values('driving_licenses', ascending=False)\n",
    "ksa_driv_lic.head(7)"
   ]
  },
  {
   "cell_type": "markdown",
   "metadata": {},
   "source": [
    "by sorting the data using the driving_licenses column, the highest regions are Riyadh, Makkah and Eastern region.."
   ]
  },
  {
   "cell_type": "code",
   "execution_count": 63,
   "metadata": {},
   "outputs": [
    {
     "data": {
      "text/html": [
       "<div>\n",
       "<style scoped>\n",
       "    .dataframe tbody tr th:only-of-type {\n",
       "        vertical-align: middle;\n",
       "    }\n",
       "\n",
       "    .dataframe tbody tr th {\n",
       "        vertical-align: top;\n",
       "    }\n",
       "\n",
       "    .dataframe thead th {\n",
       "        text-align: right;\n",
       "    }\n",
       "</style>\n",
       "<table border=\"1\" class=\"dataframe\">\n",
       "  <thead>\n",
       "    <tr style=\"text-align: right;\">\n",
       "      <th></th>\n",
       "      <th>year</th>\n",
       "      <th>region</th>\n",
       "      <th>driving_licenses</th>\n",
       "      <th>latitude_lic</th>\n",
       "      <th>longitude_lic</th>\n",
       "    </tr>\n",
       "  </thead>\n",
       "  <tbody>\n",
       "    <tr>\n",
       "      <td>34</td>\n",
       "      <td>1993</td>\n",
       "      <td>Northern Boarder</td>\n",
       "      <td>1510</td>\n",
       "      <td>30.197075</td>\n",
       "      <td>41.817119</td>\n",
       "    </tr>\n",
       "    <tr>\n",
       "      <td>53</td>\n",
       "      <td>1996</td>\n",
       "      <td>Al-Baaha</td>\n",
       "      <td>1468</td>\n",
       "      <td>20.148406</td>\n",
       "      <td>41.466548</td>\n",
       "    </tr>\n",
       "    <tr>\n",
       "      <td>281</td>\n",
       "      <td>1994</td>\n",
       "      <td>Northern Boarder</td>\n",
       "      <td>1457</td>\n",
       "      <td>30.197075</td>\n",
       "      <td>41.817119</td>\n",
       "    </tr>\n",
       "    <tr>\n",
       "      <td>167</td>\n",
       "      <td>1996</td>\n",
       "      <td>Northern Boarder</td>\n",
       "      <td>1383</td>\n",
       "      <td>30.197075</td>\n",
       "      <td>41.817119</td>\n",
       "    </tr>\n",
       "    <tr>\n",
       "      <td>280</td>\n",
       "      <td>1995</td>\n",
       "      <td>Northern Boarder</td>\n",
       "      <td>1318</td>\n",
       "      <td>30.197075</td>\n",
       "      <td>41.817119</td>\n",
       "    </tr>\n",
       "    <tr>\n",
       "      <td>180</td>\n",
       "      <td>2007</td>\n",
       "      <td>Al-Baaha</td>\n",
       "      <td>997</td>\n",
       "      <td>20.148406</td>\n",
       "      <td>41.466548</td>\n",
       "    </tr>\n",
       "    <tr>\n",
       "      <td>210</td>\n",
       "      <td>2015</td>\n",
       "      <td>Tabouk</td>\n",
       "      <td>915</td>\n",
       "      <td>27.901655</td>\n",
       "      <td>37.259858</td>\n",
       "    </tr>\n",
       "  </tbody>\n",
       "</table>\n",
       "</div>"
      ],
      "text/plain": [
       "     year            region  driving_licenses  latitude_lic  longitude_lic\n",
       "34   1993  Northern Boarder              1510     30.197075      41.817119\n",
       "53   1996          Al-Baaha              1468     20.148406      41.466548\n",
       "281  1994  Northern Boarder              1457     30.197075      41.817119\n",
       "167  1996  Northern Boarder              1383     30.197075      41.817119\n",
       "280  1995  Northern Boarder              1318     30.197075      41.817119\n",
       "180  2007          Al-Baaha               997     20.148406      41.466548\n",
       "210  2015            Tabouk               915     27.901655      37.259858"
      ]
     },
     "execution_count": 63,
     "metadata": {},
     "output_type": "execute_result"
    }
   ],
   "source": [
    "ksa_driv_lic.tail(7)"
   ]
  },
  {
   "cell_type": "markdown",
   "metadata": {},
   "source": [
    "by sorting the data using the driving_licenses column, the lowest regions are Tabouk, Al-Baaha and Northern Boarder.."
   ]
  },
  {
   "cell_type": "code",
   "execution_count": 64,
   "metadata": {},
   "outputs": [
    {
     "data": {
      "text/html": [
       "<div>\n",
       "<style scoped>\n",
       "    .dataframe tbody tr th:only-of-type {\n",
       "        vertical-align: middle;\n",
       "    }\n",
       "\n",
       "    .dataframe tbody tr th {\n",
       "        vertical-align: top;\n",
       "    }\n",
       "\n",
       "    .dataframe thead th {\n",
       "        text-align: right;\n",
       "    }\n",
       "</style>\n",
       "<table border=\"1\" class=\"dataframe\">\n",
       "  <thead>\n",
       "    <tr style=\"text-align: right;\">\n",
       "      <th></th>\n",
       "      <th>year</th>\n",
       "      <th>accidents</th>\n",
       "      <th>death</th>\n",
       "      <th>injured</th>\n",
       "      <th>driving_licenses</th>\n",
       "      <th>latitude_lic</th>\n",
       "      <th>longitude_lic</th>\n",
       "    </tr>\n",
       "    <tr>\n",
       "      <th>region</th>\n",
       "      <th></th>\n",
       "      <th></th>\n",
       "      <th></th>\n",
       "      <th></th>\n",
       "      <th></th>\n",
       "      <th></th>\n",
       "      <th></th>\n",
       "    </tr>\n",
       "  </thead>\n",
       "  <tbody>\n",
       "    <tr>\n",
       "      <td>Makkah</td>\n",
       "      <td>2016.5</td>\n",
       "      <td>140189.5</td>\n",
       "      <td>1942.0</td>\n",
       "      <td>11503.0</td>\n",
       "      <td>139271.0</td>\n",
       "      <td>21.628963</td>\n",
       "      <td>41.263690</td>\n",
       "    </tr>\n",
       "    <tr>\n",
       "      <td>Riyadh</td>\n",
       "      <td>2016.5</td>\n",
       "      <td>120830.5</td>\n",
       "      <td>1414.5</td>\n",
       "      <td>4373.5</td>\n",
       "      <td>369079.0</td>\n",
       "      <td>23.081434</td>\n",
       "      <td>45.585751</td>\n",
       "    </tr>\n",
       "    <tr>\n",
       "      <td>Eastern Region</td>\n",
       "      <td>2016.5</td>\n",
       "      <td>91526.0</td>\n",
       "      <td>1038.0</td>\n",
       "      <td>4483.0</td>\n",
       "      <td>134561.5</td>\n",
       "      <td>23.288331</td>\n",
       "      <td>50.147830</td>\n",
       "    </tr>\n",
       "    <tr>\n",
       "      <td>Asir</td>\n",
       "      <td>2016.5</td>\n",
       "      <td>28964.5</td>\n",
       "      <td>905.5</td>\n",
       "      <td>2454.5</td>\n",
       "      <td>40250.0</td>\n",
       "      <td>19.138785</td>\n",
       "      <td>42.941470</td>\n",
       "    </tr>\n",
       "    <tr>\n",
       "      <td>Qassim</td>\n",
       "      <td>2016.5</td>\n",
       "      <td>24034.5</td>\n",
       "      <td>358.0</td>\n",
       "      <td>1479.5</td>\n",
       "      <td>7749.0</td>\n",
       "      <td>26.196706</td>\n",
       "      <td>43.343000</td>\n",
       "    </tr>\n",
       "    <tr>\n",
       "      <td>Jazan</td>\n",
       "      <td>2016.5</td>\n",
       "      <td>24017.0</td>\n",
       "      <td>490.0</td>\n",
       "      <td>2233.0</td>\n",
       "      <td>14924.5</td>\n",
       "      <td>17.207231</td>\n",
       "      <td>42.652581</td>\n",
       "    </tr>\n",
       "    <tr>\n",
       "      <td>Madinah</td>\n",
       "      <td>2016.5</td>\n",
       "      <td>15272.5</td>\n",
       "      <td>701.0</td>\n",
       "      <td>3550.5</td>\n",
       "      <td>30352.5</td>\n",
       "      <td>24.927535</td>\n",
       "      <td>39.491824</td>\n",
       "    </tr>\n",
       "  </tbody>\n",
       "</table>\n",
       "</div>"
      ],
      "text/plain": [
       "                  year  accidents   death  injured  driving_licenses  \\\n",
       "region                                                                 \n",
       "Makkah          2016.5   140189.5  1942.0  11503.0          139271.0   \n",
       "Riyadh          2016.5   120830.5  1414.5   4373.5          369079.0   \n",
       "Eastern Region  2016.5    91526.0  1038.0   4483.0          134561.5   \n",
       "Asir            2016.5    28964.5   905.5   2454.5           40250.0   \n",
       "Qassim          2016.5    24034.5   358.0   1479.5            7749.0   \n",
       "Jazan           2016.5    24017.0   490.0   2233.0           14924.5   \n",
       "Madinah         2016.5    15272.5   701.0   3550.5           30352.5   \n",
       "\n",
       "                latitude_lic  longitude_lic  \n",
       "region                                       \n",
       "Makkah             21.628963      41.263690  \n",
       "Riyadh             23.081434      45.585751  \n",
       "Eastern Region     23.288331      50.147830  \n",
       "Asir               19.138785      42.941470  \n",
       "Qassim             26.196706      43.343000  \n",
       "Jazan              17.207231      42.652581  \n",
       "Madinah            24.927535      39.491824  "
      ]
     },
     "execution_count": 64,
     "metadata": {},
     "output_type": "execute_result"
    }
   ],
   "source": [
    "# Regions with highest and lowest mean Traffic Accidents numbers for years (2016 - 2017)..\n",
    "# Using .groupby to calculate the .mean of driving_licenses for each region..\n",
    "regions_mean=both_accid_lic.groupby('region').mean().sort_values('accidents', ascending=False)\n",
    "regions_mean.head(7)"
   ]
  },
  {
   "cell_type": "markdown",
   "metadata": {},
   "source": [
    "Makkah, Riyadh and Eastern region have the highest mean of accidents.."
   ]
  },
  {
   "cell_type": "code",
   "execution_count": 65,
   "metadata": {},
   "outputs": [
    {
     "data": {
      "text/html": [
       "<div>\n",
       "<style scoped>\n",
       "    .dataframe tbody tr th:only-of-type {\n",
       "        vertical-align: middle;\n",
       "    }\n",
       "\n",
       "    .dataframe tbody tr th {\n",
       "        vertical-align: top;\n",
       "    }\n",
       "\n",
       "    .dataframe thead th {\n",
       "        text-align: right;\n",
       "    }\n",
       "</style>\n",
       "<table border=\"1\" class=\"dataframe\">\n",
       "  <thead>\n",
       "    <tr style=\"text-align: right;\">\n",
       "      <th></th>\n",
       "      <th>year</th>\n",
       "      <th>accidents</th>\n",
       "      <th>death</th>\n",
       "      <th>injured</th>\n",
       "      <th>driving_licenses</th>\n",
       "      <th>latitude_lic</th>\n",
       "      <th>longitude_lic</th>\n",
       "    </tr>\n",
       "    <tr>\n",
       "      <th>region</th>\n",
       "      <th></th>\n",
       "      <th></th>\n",
       "      <th></th>\n",
       "      <th></th>\n",
       "      <th></th>\n",
       "      <th></th>\n",
       "      <th></th>\n",
       "    </tr>\n",
       "  </thead>\n",
       "  <tbody>\n",
       "    <tr>\n",
       "      <td>Madinah</td>\n",
       "      <td>2016.5</td>\n",
       "      <td>15272.5</td>\n",
       "      <td>701.0</td>\n",
       "      <td>3550.5</td>\n",
       "      <td>30352.5</td>\n",
       "      <td>24.927535</td>\n",
       "      <td>39.491824</td>\n",
       "    </tr>\n",
       "    <tr>\n",
       "      <td>Tabouk</td>\n",
       "      <td>2016.5</td>\n",
       "      <td>13872.0</td>\n",
       "      <td>391.0</td>\n",
       "      <td>1483.5</td>\n",
       "      <td>11921.0</td>\n",
       "      <td>27.901655</td>\n",
       "      <td>37.259858</td>\n",
       "    </tr>\n",
       "    <tr>\n",
       "      <td>Northern Boarder</td>\n",
       "      <td>2016.5</td>\n",
       "      <td>12368.0</td>\n",
       "      <td>152.5</td>\n",
       "      <td>502.5</td>\n",
       "      <td>5119.0</td>\n",
       "      <td>30.197075</td>\n",
       "      <td>41.817119</td>\n",
       "    </tr>\n",
       "    <tr>\n",
       "      <td>Al-Jouf</td>\n",
       "      <td>2016.5</td>\n",
       "      <td>10340.5</td>\n",
       "      <td>242.5</td>\n",
       "      <td>891.0</td>\n",
       "      <td>8731.0</td>\n",
       "      <td>29.967745</td>\n",
       "      <td>39.557037</td>\n",
       "    </tr>\n",
       "    <tr>\n",
       "      <td>Hail</td>\n",
       "      <td>2016.5</td>\n",
       "      <td>9789.0</td>\n",
       "      <td>282.0</td>\n",
       "      <td>852.5</td>\n",
       "      <td>38271.0</td>\n",
       "      <td>27.400846</td>\n",
       "      <td>41.440696</td>\n",
       "    </tr>\n",
       "    <tr>\n",
       "      <td>Najran</td>\n",
       "      <td>2016.5</td>\n",
       "      <td>3214.0</td>\n",
       "      <td>183.5</td>\n",
       "      <td>736.0</td>\n",
       "      <td>7989.0</td>\n",
       "      <td>18.451100</td>\n",
       "      <td>46.868850</td>\n",
       "    </tr>\n",
       "    <tr>\n",
       "      <td>Al-Baaha</td>\n",
       "      <td>2016.5</td>\n",
       "      <td>2516.0</td>\n",
       "      <td>159.5</td>\n",
       "      <td>1117.0</td>\n",
       "      <td>4372.5</td>\n",
       "      <td>20.148406</td>\n",
       "      <td>41.466548</td>\n",
       "    </tr>\n",
       "  </tbody>\n",
       "</table>\n",
       "</div>"
      ],
      "text/plain": [
       "                    year  accidents  death  injured  driving_licenses  \\\n",
       "region                                                                  \n",
       "Madinah           2016.5    15272.5  701.0   3550.5           30352.5   \n",
       "Tabouk            2016.5    13872.0  391.0   1483.5           11921.0   \n",
       "Northern Boarder  2016.5    12368.0  152.5    502.5            5119.0   \n",
       "Al-Jouf           2016.5    10340.5  242.5    891.0            8731.0   \n",
       "Hail              2016.5     9789.0  282.0    852.5           38271.0   \n",
       "Najran            2016.5     3214.0  183.5    736.0            7989.0   \n",
       "Al-Baaha          2016.5     2516.0  159.5   1117.0            4372.5   \n",
       "\n",
       "                  latitude_lic  longitude_lic  \n",
       "region                                         \n",
       "Madinah              24.927535      39.491824  \n",
       "Tabouk               27.901655      37.259858  \n",
       "Northern Boarder     30.197075      41.817119  \n",
       "Al-Jouf              29.967745      39.557037  \n",
       "Hail                 27.400846      41.440696  \n",
       "Najran               18.451100      46.868850  \n",
       "Al-Baaha             20.148406      41.466548  "
      ]
     },
     "execution_count": 65,
     "metadata": {},
     "output_type": "execute_result"
    }
   ],
   "source": [
    "regions_mean.tail(7)"
   ]
  },
  {
   "cell_type": "markdown",
   "metadata": {},
   "source": [
    "Al-Baaha, Hail and Najran regions have the lowest mean of accidents.."
   ]
  },
  {
   "cell_type": "code",
   "execution_count": 66,
   "metadata": {},
   "outputs": [],
   "source": [
    "#Regions that have more Driving Licenses issued in each year than the year average..\n",
    "# Using .groupby to calculate the .mean of driving_licenses for each region in year..\n",
    "year_mean = both_accid_lic.groupby('year').driving_licenses.mean()\n",
    "both_accid_lic['year_m_lic'] = both_accid_lic.year.apply(lambda x: year_mean[x])"
   ]
  },
  {
   "cell_type": "code",
   "execution_count": 67,
   "metadata": {},
   "outputs": [
    {
     "data": {
      "text/html": [
       "<div>\n",
       "<style scoped>\n",
       "    .dataframe tbody tr th:only-of-type {\n",
       "        vertical-align: middle;\n",
       "    }\n",
       "\n",
       "    .dataframe tbody tr th {\n",
       "        vertical-align: top;\n",
       "    }\n",
       "\n",
       "    .dataframe thead th {\n",
       "        text-align: right;\n",
       "    }\n",
       "</style>\n",
       "<table border=\"1\" class=\"dataframe\">\n",
       "  <thead>\n",
       "    <tr style=\"text-align: right;\">\n",
       "      <th></th>\n",
       "      <th>year</th>\n",
       "      <th>region</th>\n",
       "      <th>accidents</th>\n",
       "      <th>death</th>\n",
       "      <th>injured</th>\n",
       "      <th>driving_licenses</th>\n",
       "      <th>latitude_lic</th>\n",
       "      <th>longitude_lic</th>\n",
       "      <th>year_m_lic</th>\n",
       "    </tr>\n",
       "  </thead>\n",
       "  <tbody>\n",
       "    <tr>\n",
       "      <td>24</td>\n",
       "      <td>2017</td>\n",
       "      <td>Riyadh</td>\n",
       "      <td>99925</td>\n",
       "      <td>1399</td>\n",
       "      <td>4540</td>\n",
       "      <td>495307</td>\n",
       "      <td>23.081434</td>\n",
       "      <td>45.585751</td>\n",
       "      <td>71397.307692</td>\n",
       "    </tr>\n",
       "    <tr>\n",
       "      <td>11</td>\n",
       "      <td>2016</td>\n",
       "      <td>Riyadh</td>\n",
       "      <td>141736</td>\n",
       "      <td>1430</td>\n",
       "      <td>4207</td>\n",
       "      <td>242851</td>\n",
       "      <td>23.081434</td>\n",
       "      <td>45.585751</td>\n",
       "      <td>53616.692308</td>\n",
       "    </tr>\n",
       "    <tr>\n",
       "      <td>20</td>\n",
       "      <td>2017</td>\n",
       "      <td>Makkah</td>\n",
       "      <td>145541</td>\n",
       "      <td>1641</td>\n",
       "      <td>10623</td>\n",
       "      <td>142487</td>\n",
       "      <td>21.628963</td>\n",
       "      <td>41.263690</td>\n",
       "      <td>71397.307692</td>\n",
       "    </tr>\n",
       "    <tr>\n",
       "      <td>3</td>\n",
       "      <td>2016</td>\n",
       "      <td>Eastern Region</td>\n",
       "      <td>101619</td>\n",
       "      <td>1113</td>\n",
       "      <td>4893</td>\n",
       "      <td>142307</td>\n",
       "      <td>23.288331</td>\n",
       "      <td>50.147830</td>\n",
       "      <td>53616.692308</td>\n",
       "    </tr>\n",
       "    <tr>\n",
       "      <td>7</td>\n",
       "      <td>2016</td>\n",
       "      <td>Makkah</td>\n",
       "      <td>134838</td>\n",
       "      <td>2243</td>\n",
       "      <td>12383</td>\n",
       "      <td>136055</td>\n",
       "      <td>21.628963</td>\n",
       "      <td>41.263690</td>\n",
       "      <td>53616.692308</td>\n",
       "    </tr>\n",
       "    <tr>\n",
       "      <td>16</td>\n",
       "      <td>2017</td>\n",
       "      <td>Eastern Region</td>\n",
       "      <td>81433</td>\n",
       "      <td>963</td>\n",
       "      <td>4073</td>\n",
       "      <td>126816</td>\n",
       "      <td>23.288331</td>\n",
       "      <td>50.147830</td>\n",
       "      <td>71397.307692</td>\n",
       "    </tr>\n",
       "    <tr>\n",
       "      <td>4</td>\n",
       "      <td>2016</td>\n",
       "      <td>Hail</td>\n",
       "      <td>10199</td>\n",
       "      <td>299</td>\n",
       "      <td>932</td>\n",
       "      <td>54507</td>\n",
       "      <td>27.400846</td>\n",
       "      <td>41.440696</td>\n",
       "      <td>53616.692308</td>\n",
       "    </tr>\n",
       "  </tbody>\n",
       "</table>\n",
       "</div>"
      ],
      "text/plain": [
       "    year          region  accidents  death  injured  driving_licenses  \\\n",
       "24  2017          Riyadh      99925   1399     4540            495307   \n",
       "11  2016          Riyadh     141736   1430     4207            242851   \n",
       "20  2017          Makkah     145541   1641    10623            142487   \n",
       "3   2016  Eastern Region     101619   1113     4893            142307   \n",
       "7   2016          Makkah     134838   2243    12383            136055   \n",
       "16  2017  Eastern Region      81433    963     4073            126816   \n",
       "4   2016            Hail      10199    299      932             54507   \n",
       "\n",
       "    latitude_lic  longitude_lic    year_m_lic  \n",
       "24     23.081434      45.585751  71397.307692  \n",
       "11     23.081434      45.585751  53616.692308  \n",
       "20     21.628963      41.263690  71397.307692  \n",
       "3      23.288331      50.147830  53616.692308  \n",
       "7      21.628963      41.263690  53616.692308  \n",
       "16     23.288331      50.147830  71397.307692  \n",
       "4      27.400846      41.440696  53616.692308  "
      ]
     },
     "execution_count": 67,
     "metadata": {},
     "output_type": "execute_result"
    }
   ],
   "source": [
    "# calculate driving_licenses > the mean by groupby the year..\n",
    "highest_regions_licenses = both_accid_lic[both_accid_lic.driving_licenses > both_accid_lic.year_m_lic]\n",
    "highest_regions_licenses.sort_values('driving_licenses', ascending=False).head(7)"
   ]
  },
  {
   "cell_type": "markdown",
   "metadata": {},
   "source": [
    "Riyadh, Makkah and Eastern Region are have more Driving Licenses issued in each year than the mean year..  "
   ]
  },
  {
   "cell_type": "code",
   "execution_count": 68,
   "metadata": {},
   "outputs": [],
   "source": [
    "# Using .groupby to calculate the .mean of accidents for each region in year..\n",
    "year_mean = both_accid_lic.groupby('year').accidents.mean()\n",
    "both_accid_lic['year_m_accid'] = both_accid_lic.year.apply(lambda x: year_mean[x])"
   ]
  },
  {
   "cell_type": "code",
   "execution_count": 69,
   "metadata": {},
   "outputs": [
    {
     "data": {
      "text/html": [
       "<div>\n",
       "<style scoped>\n",
       "    .dataframe tbody tr th:only-of-type {\n",
       "        vertical-align: middle;\n",
       "    }\n",
       "\n",
       "    .dataframe tbody tr th {\n",
       "        vertical-align: top;\n",
       "    }\n",
       "\n",
       "    .dataframe thead th {\n",
       "        text-align: right;\n",
       "    }\n",
       "</style>\n",
       "<table border=\"1\" class=\"dataframe\">\n",
       "  <thead>\n",
       "    <tr style=\"text-align: right;\">\n",
       "      <th></th>\n",
       "      <th>year</th>\n",
       "      <th>region</th>\n",
       "      <th>accidents</th>\n",
       "      <th>death</th>\n",
       "      <th>injured</th>\n",
       "      <th>driving_licenses</th>\n",
       "      <th>latitude_lic</th>\n",
       "      <th>longitude_lic</th>\n",
       "      <th>year_m_lic</th>\n",
       "      <th>year_m_accid</th>\n",
       "    </tr>\n",
       "  </thead>\n",
       "  <tbody>\n",
       "    <tr>\n",
       "      <td>20</td>\n",
       "      <td>2017</td>\n",
       "      <td>Makkah</td>\n",
       "      <td>145541</td>\n",
       "      <td>1641</td>\n",
       "      <td>10623</td>\n",
       "      <td>142487</td>\n",
       "      <td>21.628963</td>\n",
       "      <td>41.263690</td>\n",
       "      <td>71397.307692</td>\n",
       "      <td>35422.153846</td>\n",
       "    </tr>\n",
       "    <tr>\n",
       "      <td>11</td>\n",
       "      <td>2016</td>\n",
       "      <td>Riyadh</td>\n",
       "      <td>141736</td>\n",
       "      <td>1430</td>\n",
       "      <td>4207</td>\n",
       "      <td>242851</td>\n",
       "      <td>23.081434</td>\n",
       "      <td>45.585751</td>\n",
       "      <td>53616.692308</td>\n",
       "      <td>41029.230769</td>\n",
       "    </tr>\n",
       "    <tr>\n",
       "      <td>7</td>\n",
       "      <td>2016</td>\n",
       "      <td>Makkah</td>\n",
       "      <td>134838</td>\n",
       "      <td>2243</td>\n",
       "      <td>12383</td>\n",
       "      <td>136055</td>\n",
       "      <td>21.628963</td>\n",
       "      <td>41.263690</td>\n",
       "      <td>53616.692308</td>\n",
       "      <td>41029.230769</td>\n",
       "    </tr>\n",
       "    <tr>\n",
       "      <td>3</td>\n",
       "      <td>2016</td>\n",
       "      <td>Eastern Region</td>\n",
       "      <td>101619</td>\n",
       "      <td>1113</td>\n",
       "      <td>4893</td>\n",
       "      <td>142307</td>\n",
       "      <td>23.288331</td>\n",
       "      <td>50.147830</td>\n",
       "      <td>53616.692308</td>\n",
       "      <td>41029.230769</td>\n",
       "    </tr>\n",
       "    <tr>\n",
       "      <td>24</td>\n",
       "      <td>2017</td>\n",
       "      <td>Riyadh</td>\n",
       "      <td>99925</td>\n",
       "      <td>1399</td>\n",
       "      <td>4540</td>\n",
       "      <td>495307</td>\n",
       "      <td>23.081434</td>\n",
       "      <td>45.585751</td>\n",
       "      <td>71397.307692</td>\n",
       "      <td>35422.153846</td>\n",
       "    </tr>\n",
       "    <tr>\n",
       "      <td>16</td>\n",
       "      <td>2017</td>\n",
       "      <td>Eastern Region</td>\n",
       "      <td>81433</td>\n",
       "      <td>963</td>\n",
       "      <td>4073</td>\n",
       "      <td>126816</td>\n",
       "      <td>23.288331</td>\n",
       "      <td>50.147830</td>\n",
       "      <td>71397.307692</td>\n",
       "      <td>35422.153846</td>\n",
       "    </tr>\n",
       "  </tbody>\n",
       "</table>\n",
       "</div>"
      ],
      "text/plain": [
       "    year          region  accidents  death  injured  driving_licenses  \\\n",
       "20  2017          Makkah     145541   1641    10623            142487   \n",
       "11  2016          Riyadh     141736   1430     4207            242851   \n",
       "7   2016          Makkah     134838   2243    12383            136055   \n",
       "3   2016  Eastern Region     101619   1113     4893            142307   \n",
       "24  2017          Riyadh      99925   1399     4540            495307   \n",
       "16  2017  Eastern Region      81433    963     4073            126816   \n",
       "\n",
       "    latitude_lic  longitude_lic    year_m_lic  year_m_accid  \n",
       "20     21.628963      41.263690  71397.307692  35422.153846  \n",
       "11     23.081434      45.585751  53616.692308  41029.230769  \n",
       "7      21.628963      41.263690  53616.692308  41029.230769  \n",
       "3      23.288331      50.147830  53616.692308  41029.230769  \n",
       "24     23.081434      45.585751  71397.307692  35422.153846  \n",
       "16     23.288331      50.147830  71397.307692  35422.153846  "
      ]
     },
     "execution_count": 69,
     "metadata": {},
     "output_type": "execute_result"
    }
   ],
   "source": [
    "# calculate accidents > the mean by groupby the year..\n",
    "highest_regions_accidents = both_accid_lic[both_accid_lic.accidents > both_accid_lic.year_m_accid]\n",
    "highest_regions_accidents.sort_values('accidents', ascending=False).head(7)"
   ]
  },
  {
   "cell_type": "markdown",
   "metadata": {},
   "source": [
    "Riyadh, Makkah and Eastern Region are have more accidents in each year than the mean year.."
   ]
  },
  {
   "cell_type": "markdown",
   "metadata": {},
   "source": [
    "Regions are Riyadh, Makkah and Eastern region that have more Driving Licenses issued in each year than the mean of year.. "
   ]
  },
  {
   "cell_type": "markdown",
   "metadata": {},
   "source": [
    "## Visualize the data\n",
    "\n",
    "There's not a magic bullet recommendation for the right number of plots to understand a given dataset, but visualizing your data is *always* a good idea. Not only does it allow you to quickly convey your findings (even if you have a non-technical audience), it will often reveal trends in your data that escaped you when you were looking only at numbers.\n",
    "\n",
    "Some recommendations on plotting:\n",
    "- Plots have titles\n",
    "- Plots have axis labels\n",
    "- Plots have appropriate tick labels\n",
    "- All text is legible in a plot\n",
    "- Plots demonstrate meaningful and valid relationships\n",
    "- Plots are interpreted to aid understanding\n",
    "\n",
    "There is such a thing as too many plots, and there are a *lot* of bad plots. You might make some! (But hopefully not with the guided prompts below)."
   ]
  },
  {
   "cell_type": "code",
   "execution_count": null,
   "metadata": {},
   "outputs": [],
   "source": []
  },
  {
   "cell_type": "markdown",
   "metadata": {},
   "source": [
    "#### Use Seaborn's heatmap with pandas `.corr()` to visualize correlations between all numeric features\n",
    "\n",
    "Heatmaps are generally not appropriate for presentations, and should often be excluded from reports as they can be visually overwhelming. **However**, they can be extremely useful in identify relationships of potential interest (as well as identifying potential collinearity before modeling).\n",
    "\n",
    "*example*:\n",
    "```python\n",
    "sns.heatmap(df.corr())\n",
    "```\n",
    "\n",
    "Please take time to format your output, adding a title. Look through some of the additional arguments and options. (Axis labels aren't really necessary, as long as the title is informative)."
   ]
  },
  {
   "cell_type": "code",
   "execution_count": 70,
   "metadata": {},
   "outputs": [],
   "source": [
    "import matplotlib.pyplot as plt\n",
    "\n",
    "sns.set_style('whitegrid') # just optional!\n",
    "%matplotlib inline\n",
    "\n",
    "#Setting display format to retina in matplotlib to see better quality images.\n",
    "from IPython.display import set_matplotlib_formats\n",
    "set_matplotlib_formats('retina')\n",
    "\n",
    "# Lines below are just to ignore warnings\n",
    "import warnings\n",
    "warnings.filterwarnings('ignore')"
   ]
  },
  {
   "cell_type": "code",
   "execution_count": 71,
   "metadata": {},
   "outputs": [
    {
     "data": {
      "image/png": "[encoded data removed]",
      "text/plain": [
       "<Figure size 720x576 with 2 Axes>"
      ]
     },
     "metadata": {
      "image/png": {
       "height": 542,
       "width": 615
      },
      "needs_background": "light"
     },
     "output_type": "display_data"
    }
   ],
   "source": [
    "plt.figure(figsize=(10,8))\n",
    "ax1= sns.heatmap(both_accid_lic.corr(),cmap=\"YlGnBu\", annot = True,)\n",
    "ax1.set_title('Correlations between numeric features')\n",
    "plt.show()"
   ]
  },
  {
   "cell_type": "markdown",
   "metadata": {},
   "source": [
    "#### Define a custom function to subplot histograms\n",
    "\n",
    "We should write a function that will take the names of 2+ columns and subplot histograms. While you can use pandas plotting or Seaborn here, matplotlib gives you greater control over all aspects of your plots.\n",
    "\n",
    "[Helpful Link for Plotting Multiple Figures](https://matplotlib.org/users/pyplot_tutorial.html#working-with-multiple-figures-and-axes)\n",
    "\n",
    "Here's some starter code:"
   ]
  },
  {
   "cell_type": "code",
   "execution_count": 72,
   "metadata": {},
   "outputs": [],
   "source": [
    "def subplot_histograms(dataframe, list_of_columns, list_of_titles, list_of_xlabels, figsize_tuple, bins_range = None):\n",
    "    nrows = int(np.ceil(len(list_of_columns)/2)) # Makes sure you have enough rows\n",
    "    fig, ax = plt.subplots(figsize=figsize_tuple,nrows=nrows, ncols=2) # You'll want to specify your figsize\n",
    "    ax = ax.ravel() # Ravel turns a matrix into a vector, which is easier to iterate\n",
    "    for i, column in enumerate(list_of_columns): # Gives us an index value to get into all our lists\n",
    "        ax[i].hist(dataframe[column],bins=bins_range) # feel free to add more settings\n",
    "        ax[i].set_title(list_of_titles[i])# Set titles, labels, etc here for each subplot\n",
    "        ax[i].set_xlabel(list_of_xlabels[i])"
   ]
  },
  {
   "cell_type": "markdown",
   "metadata": {},
   "source": [
    "#### Plot and interpret histograms \n",
    "For each of the following:\n",
    "- Driving Licenses number\n",
    "- Traffic Accidents number\n",
    "\n",
    "Please plot two additional histograms that will help with your understanding of the data"
   ]
  },
  {
   "cell_type": "code",
   "execution_count": 73,
   "metadata": {
    "scrolled": true
   },
   "outputs": [
    {
     "data": {
      "image/png": "[encoded data removed]",
      "text/plain": [
       "<Figure size 864x360 with 2 Axes>"
      ]
     },
     "metadata": {
      "image/png": {
       "height": 331,
       "width": 707
      },
      "needs_background": "light"
     },
     "output_type": "display_data"
    }
   ],
   "source": [
    "#create subplot for Accidents and driving_licenses features..\n",
    "subplot_histograms(\n",
    "    both_accid_lic,\n",
    "    ['accidents','driving_licenses'],\n",
    "    ['Accidents 2016-2017','driving licenses 2016-2017'],\n",
    "    ['Accidents','driving licenses'],\n",
    "   (12,5))"
   ]
  },
  {
   "cell_type": "markdown",
   "metadata": {},
   "source": [
    "#### Plot and interpret scatter plots\n",
    "\n",
    "For each of the following:\n",
    "- Driving Licenses vs. Traffic Accidents for 2017\n",
    "- Driving Licenses vs. Traffic Accidents for 2016\n",
    "- Driving Licenses for 2016 vs 2017\n",
    "- Traffic Accidents for 2016 vs 2017\n",
    "\n",
    "Plot the two variables against each other using matplotlib or Seaborn\n",
    "\n",
    "Your plots should show:\n",
    "- Two clearly labeled axes\n",
    "- A proper title\n",
    "- Using colors and symbols that are clear and unmistakable\n",
    "\n",
    "**Feel free to write a custom function, and subplot if you'd like.** Functions save both time and space.\n"
   ]
  },
  {
   "cell_type": "code",
   "execution_count": 74,
   "metadata": {},
   "outputs": [
    {
     "data": {
      "image/png": "[encoded data removed]",
      "text/plain": [
       "<Figure size 864x864 with 4 Axes>"
      ]
     },
     "metadata": {
      "image/png": {
       "height": 696,
       "width": 748
      },
      "needs_background": "light"
     },
     "output_type": "display_data"
    }
   ],
   "source": [
    "#create a plot for each two variables..\n",
    "fig, ax = plt.subplots(ncols=2, nrows=2, figsize=(12, 12))\n",
    "sns.scatterplot(both_accid_lic.loc[both_accid_lic.year == 2017,'driving_licenses'], both_accid_lic.loc[both_accid_lic.year == 2017, 'accidents'], ax=ax[0,0])\n",
    "sns.scatterplot(both_accid_lic.loc[both_accid_lic.year == 2016,'driving_licenses'], both_accid_lic.loc[both_accid_lic.year == 2016, 'accidents'], ax=ax[0,1])\n",
    "sns.scatterplot(both_accid_lic.loc[both_accid_lic.year == 2016,'driving_licenses'].values, both_accid_lic.loc[both_accid_lic.year == 2017, 'driving_licenses'].values, ax=ax[1,0])\n",
    "sns.scatterplot(both_accid_lic.loc[both_accid_lic.year == 2016,'accidents'].values, both_accid_lic.loc[both_accid_lic.year == 2017, 'accidents'].values, ax=ax[1,1])\n",
    "ax[0,0].set_title('driving licenses vs number of accidents for 2017', fontsize=10)\n",
    "ax[0,1].set_title('driving licenses vs number of accidents for 2016', fontsize=10)\n",
    "ax[1,0].set_title('driving licenses 2016 vs 2017', fontsize=10)\n",
    "ax[1,1].set_title('number of accidents 2016 vs 2017', fontsize=10)\n",
    "plt.show()"
   ]
  },
  {
   "cell_type": "markdown",
   "metadata": {},
   "source": [
    "#### Plot and interpret boxplots\n",
    "\n",
    "For each numeric variable in the dataframe create a boxplot using Seaborn. Boxplots demonstrate central tendency and spread in variables. In a certain sense, these are somewhat redundant with histograms, but you may be better able to identify clear outliers or differences in IQR, etc.\n",
    "\n",
    "Multiple values can be plotted to a single boxplot as long as they are of the same relative scale (meaning they have similar min/max values).\n",
    "\n",
    "Each boxplot should:\n",
    "- Only include variables of a similar scale\n",
    "- Have clear labels for each variable\n",
    "- Have appropriate titles and labels"
   ]
  },
  {
   "cell_type": "code",
   "execution_count": 75,
   "metadata": {},
   "outputs": [
    {
     "data": {
      "image/png": "[encoded data removed]",
      "text/plain": [
       "<Figure size 576x504 with 1 Axes>"
      ]
     },
     "metadata": {
      "image/png": {
       "height": 462,
       "width": 515
      },
      "needs_background": "light"
     },
     "output_type": "display_data"
    }
   ],
   "source": [
    "# Code\n",
    "#creat a boxplot for driving licenses by the years 2016-2017\n",
    "both_accid_lic.boxplot(by ='year', column =['driving_licenses'], grid = False, figsize=(8,7))\n",
    "plt.xlabel('driving licenses')\n",
    "plt.title('driving licenses 2016-2017')\n",
    "plt.show()\n",
    "#"
   ]
  },
  {
   "cell_type": "code",
   "execution_count": 76,
   "metadata": {},
   "outputs": [
    {
     "data": {
      "image/png": "[encoded data removed]",
      "text/plain": [
       "<Figure size 576x504 with 1 Axes>"
      ]
     },
     "metadata": {
      "image/png": {
       "height": 462,
       "width": 515
      },
      "needs_background": "light"
     },
     "output_type": "display_data"
    }
   ],
   "source": [
    "#creat a boxplot for accidents by the years 2016-2017\n",
    "both_accid_lic.boxplot(by ='year', column =['accidents'], grid = False, figsize=(8,7))\n",
    "plt.xlabel('Accidents')\n",
    "plt.title('Accidents 2016-2017')\n",
    "plt.show()"
   ]
  },
  {
   "cell_type": "code",
   "execution_count": 83,
   "metadata": {},
   "outputs": [
    {
     "data": {
      "image/png": "[encoded data removed]",
      "text/plain": [
       "<Figure size 576x504 with 2 Axes>"
      ]
     },
     "metadata": {
      "image/png": {
       "height": 462,
       "width": 510
      },
      "needs_background": "light"
     },
     "output_type": "display_data"
    }
   ],
   "source": [
    "#creat a boxplot for 'death','injured' by the years 2016-2017\n",
    "both_accid_lic.boxplot(by ='year', column=['death','injured'], grid = False, figsize=(8,7))\n",
    "plt.show()"
   ]
  },
  {
   "cell_type": "markdown",
   "metadata": {},
   "source": [
    "#### Feel free to do additional plots below\n",
    "*(do research and choose your own chart types & variables)*\n",
    "\n",
    "Are there any additional trends or relationships you haven't explored? Was there something interesting you saw that you'd like to dive further into? It's likely that there are a few more plots you might want to generate to support your narrative and recommendations that you are building toward. **As always, make sure you're interpreting your plots as you go**."
   ]
  },
  {
   "cell_type": "code",
   "execution_count": 78,
   "metadata": {},
   "outputs": [
    {
     "data": {
      "image/png": "[encoded data removed]",
      "text/plain": [
       "<Figure size 432x288 with 1 Axes>"
      ]
     },
     "metadata": {
      "image/png": {
       "height": 328,
       "width": 391
      },
      "needs_background": "light"
     },
     "output_type": "display_data"
    }
   ],
   "source": [
    "#create a boxplot for number of death in each region..\n",
    "sns.boxplot(x='region', y='death', data=both_accid_lic)\n",
    "plt.xticks(rotation=70);"
   ]
  },
  {
   "cell_type": "markdown",
   "metadata": {},
   "source": [
    "## Descriptive and Inferential Statistics"
   ]
  },
  {
   "cell_type": "markdown",
   "metadata": {},
   "source": [
    "#### Summarizing Distributions\n",
    "\n",
    "Above, we used pandas `describe` to provide quick summary statistics of our numeric columns. We also demonstrated many visual relationships.\n",
    "\n",
    "As data scientists, having a complete understanding of data is imperative prior to modeling.\n",
    "\n",
    "While we will continue to build our analytic tools, we know that measures of *central tendency*, *spread*, and *shape/skewness* provide a quick summary of distributions.\n",
    "\n",
    "For each variable in your data, summarize the underlying distributions (in words & statistics)\n",
    " - Be thorough in your verbal description of these distributions.\n",
    " - Be sure to back up these summaries with statistics."
   ]
  },
  {
   "cell_type": "code",
   "execution_count": 79,
   "metadata": {},
   "outputs": [
    {
     "data": {
      "text/html": [
       "<div>\n",
       "<style scoped>\n",
       "    .dataframe tbody tr th:only-of-type {\n",
       "        vertical-align: middle;\n",
       "    }\n",
       "\n",
       "    .dataframe tbody tr th {\n",
       "        vertical-align: top;\n",
       "    }\n",
       "\n",
       "    .dataframe thead th {\n",
       "        text-align: right;\n",
       "    }\n",
       "</style>\n",
       "<table border=\"1\" class=\"dataframe\">\n",
       "  <thead>\n",
       "    <tr style=\"text-align: right;\">\n",
       "      <th></th>\n",
       "      <th>year</th>\n",
       "      <th>accidents</th>\n",
       "      <th>death</th>\n",
       "      <th>injured</th>\n",
       "      <th>driving_licenses</th>\n",
       "      <th>latitude_lic</th>\n",
       "      <th>longitude_lic</th>\n",
       "      <th>year_m_lic</th>\n",
       "      <th>year_m_accid</th>\n",
       "    </tr>\n",
       "  </thead>\n",
       "  <tbody>\n",
       "    <tr>\n",
       "      <td>count</td>\n",
       "      <td>26.000000</td>\n",
       "      <td>26.000000</td>\n",
       "      <td>26.000000</td>\n",
       "      <td>26.000000</td>\n",
       "      <td>26.000000</td>\n",
       "      <td>26.000000</td>\n",
       "      <td>26.000000</td>\n",
       "      <td>26.000000</td>\n",
       "      <td>26.000000</td>\n",
       "    </tr>\n",
       "    <tr>\n",
       "      <td>mean</td>\n",
       "      <td>2016.500000</td>\n",
       "      <td>38225.692308</td>\n",
       "      <td>635.384615</td>\n",
       "      <td>2743.038462</td>\n",
       "      <td>62507.000000</td>\n",
       "      <td>23.810447</td>\n",
       "      <td>42.602789</td>\n",
       "      <td>62507.000000</td>\n",
       "      <td>38225.692308</td>\n",
       "    </tr>\n",
       "    <tr>\n",
       "      <td>std</td>\n",
       "      <td>0.509902</td>\n",
       "      <td>46493.705035</td>\n",
       "      <td>549.783381</td>\n",
       "      <td>2922.641127</td>\n",
       "      <td>107293.917762</td>\n",
       "      <td>4.274533</td>\n",
       "      <td>3.313532</td>\n",
       "      <td>9066.370481</td>\n",
       "      <td>2859.059464</td>\n",
       "    </tr>\n",
       "    <tr>\n",
       "      <td>min</td>\n",
       "      <td>2016.000000</td>\n",
       "      <td>1414.000000</td>\n",
       "      <td>112.000000</td>\n",
       "      <td>374.000000</td>\n",
       "      <td>2153.000000</td>\n",
       "      <td>17.207231</td>\n",
       "      <td>37.259858</td>\n",
       "      <td>53616.692308</td>\n",
       "      <td>35422.153846</td>\n",
       "    </tr>\n",
       "    <tr>\n",
       "      <td>25%</td>\n",
       "      <td>2016.000000</td>\n",
       "      <td>10276.250000</td>\n",
       "      <td>241.250000</td>\n",
       "      <td>923.000000</td>\n",
       "      <td>8363.250000</td>\n",
       "      <td>20.148406</td>\n",
       "      <td>41.263690</td>\n",
       "      <td>53616.692308</td>\n",
       "      <td>35422.153846</td>\n",
       "    </tr>\n",
       "    <tr>\n",
       "      <td>50%</td>\n",
       "      <td>2016.500000</td>\n",
       "      <td>16050.500000</td>\n",
       "      <td>415.500000</td>\n",
       "      <td>1618.500000</td>\n",
       "      <td>16085.000000</td>\n",
       "      <td>23.288331</td>\n",
       "      <td>41.817119</td>\n",
       "      <td>62507.000000</td>\n",
       "      <td>38225.692308</td>\n",
       "    </tr>\n",
       "    <tr>\n",
       "      <td>75%</td>\n",
       "      <td>2017.000000</td>\n",
       "      <td>30981.250000</td>\n",
       "      <td>929.250000</td>\n",
       "      <td>3784.000000</td>\n",
       "      <td>51222.000000</td>\n",
       "      <td>27.400846</td>\n",
       "      <td>43.343000</td>\n",
       "      <td>71397.307692</td>\n",
       "      <td>41029.230769</td>\n",
       "    </tr>\n",
       "    <tr>\n",
       "      <td>max</td>\n",
       "      <td>2017.000000</td>\n",
       "      <td>145541.000000</td>\n",
       "      <td>2243.000000</td>\n",
       "      <td>12383.000000</td>\n",
       "      <td>495307.000000</td>\n",
       "      <td>30.197075</td>\n",
       "      <td>50.147830</td>\n",
       "      <td>71397.307692</td>\n",
       "      <td>41029.230769</td>\n",
       "    </tr>\n",
       "  </tbody>\n",
       "</table>\n",
       "</div>"
      ],
      "text/plain": [
       "              year      accidents        death       injured  \\\n",
       "count    26.000000      26.000000    26.000000     26.000000   \n",
       "mean   2016.500000   38225.692308   635.384615   2743.038462   \n",
       "std       0.509902   46493.705035   549.783381   2922.641127   \n",
       "min    2016.000000    1414.000000   112.000000    374.000000   \n",
       "25%    2016.000000   10276.250000   241.250000    923.000000   \n",
       "50%    2016.500000   16050.500000   415.500000   1618.500000   \n",
       "75%    2017.000000   30981.250000   929.250000   3784.000000   \n",
       "max    2017.000000  145541.000000  2243.000000  12383.000000   \n",
       "\n",
       "       driving_licenses  latitude_lic  longitude_lic    year_m_lic  \\\n",
       "count         26.000000     26.000000      26.000000     26.000000   \n",
       "mean       62507.000000     23.810447      42.602789  62507.000000   \n",
       "std       107293.917762      4.274533       3.313532   9066.370481   \n",
       "min         2153.000000     17.207231      37.259858  53616.692308   \n",
       "25%         8363.250000     20.148406      41.263690  53616.692308   \n",
       "50%        16085.000000     23.288331      41.817119  62507.000000   \n",
       "75%        51222.000000     27.400846      43.343000  71397.307692   \n",
       "max       495307.000000     30.197075      50.147830  71397.307692   \n",
       "\n",
       "       year_m_accid  \n",
       "count     26.000000  \n",
       "mean   38225.692308  \n",
       "std     2859.059464  \n",
       "min    35422.153846  \n",
       "25%    35422.153846  \n",
       "50%    38225.692308  \n",
       "75%    41029.230769  \n",
       "max    41029.230769  "
      ]
     },
     "execution_count": 79,
     "metadata": {},
     "output_type": "execute_result"
    }
   ],
   "source": [
    "#using .describe \n",
    "both_accid_lic.describe()"
   ]
  },
  {
   "cell_type": "markdown",
   "metadata": {},
   "source": [
    "Answers:\n",
    "\n",
    "- accidents:\n",
    "\n",
    "Number of accidents show(positively skewed).the higher level of accidents was in Riyadh, Eastern region and Makkah regions. This is due to the population density in those key regions of Saudi Arabia as opposed to other regions.\n",
    "\n",
    "- death:\n",
    "\n",
    "Number of deaths resulting from accidents is (positively skewed) becase the mean > median (which seen From the table above).\n",
    "\n",
    "- injured:\n",
    "\n",
    "Number of deaths resulting from accidents is (positively skewed) becase the mean > median (which seen From the table above).\n",
    "\n",
    "- driving_licenses:\n",
    "\n",
    "Number of driving licenses shows(positive skewness).the higher level of driving licenses was in Riyadh, Eastern region and Makkah regions. This is due to the population density in those key regions of Saudi Arabia as opposed to other regions. "
   ]
  },
  {
   "cell_type": "code",
   "execution_count": 81,
   "metadata": {},
   "outputs": [
    {
     "data": {
      "text/plain": [
       "Text(0.5, 0, 'number of driving licenses issued')"
      ]
     },
     "execution_count": 81,
     "metadata": {},
     "output_type": "execute_result"
    },
    {
     "data": {
      "image/png": "[encoded data removed]",
      "text/plain": [
       "<Figure size 864x864 with 4 Axes>"
      ]
     },
     "metadata": {
      "image/png": {
       "height": 696,
       "width": 732
      },
      "needs_background": "light"
     },
     "output_type": "display_data"
    }
   ],
   "source": [
    "# create a subplot for the numaric features.. \n",
    "fig, ax = plt.subplots(ncols=2, nrows=2, figsize=(12, 12))\n",
    "sns.distplot(both_accid_lic.accidents, bins=10, kde=True, ax=ax[0,0])\n",
    "sns.distplot(both_accid_lic.death, bins=10, kde=True, ax=ax[0,1])\n",
    "sns.distplot(both_accid_lic.injured, bins=10, kde=True, ax=ax[1,0])\n",
    "sns.distplot(both_accid_lic .driving_licenses, bins=10, kde=True, ax=ax[1,1])\n",
    "ax[0,0].set_xlabel('number of accidents', fontsize=10)\n",
    "ax[0,1].set_xlabel('number of deaths from accidents', fontsize=10)\n",
    "ax[1,0].set_xlabel('number of injured from accidents',fontsize=10)\n",
    "ax[1,1].set_xlabel('number of driving licenses issued', fontsize=10)"
   ]
  },
  {
   "cell_type": "markdown",
   "metadata": {},
   "source": [
    "#### We generally assuming that data we sample from a population will be normally distributed. Do we observe this trend?"
   ]
  },
  {
   "cell_type": "markdown",
   "metadata": {},
   "source": [
    "Answer:"
   ]
  },
  {
   "cell_type": "markdown",
   "metadata": {},
   "source": [
    "Does This Assumption Hold for:\n",
    "    - Driving Licenses\n",
    "    - Traffic Accidents\n",
    "Explain your answers for each distribution and how you think this will affect estimates made from these data."
   ]
  },
  {
   "cell_type": "markdown",
   "metadata": {},
   "source": [
    "Answer: \n",
    "\n",
    "As we see in histograms for each variables, they are all (positively skewed) and that's will affect in the answers. So, in skewed data, the tail region may act as an outlier for the statistical model and we know that outliers adversely affect the model’s performance.."
   ]
  },
  {
   "cell_type": "markdown",
   "metadata": {},
   "source": [
    "#### Statistical Evaluation of Distributions \n",
    "\n",
    "**If you feel it's appropriate**, using methods we discussed in class, run hypothesis tests to compare variables of interest in our dataset. "
   ]
  },
  {
   "cell_type": "code",
   "execution_count": 92,
   "metadata": {},
   "outputs": [],
   "source": [
    "# Code"
   ]
  },
  {
   "cell_type": "markdown",
   "metadata": {},
   "source": [
    "## Outside Research"
   ]
  },
  {
   "cell_type": "markdown",
   "metadata": {},
   "source": [
    "Based upon your observations, choose **three** regions that demonstrate interesting trends in the number of driving licenses and traffic accidents. Spend some time doing outside research on provincial and central policies that might influence these rates, and summarize your findings below. **Feel free to go back and create new plots that highlight these states of interest**. If you bring in any outside tables or charts, make sure you are explicit about having borrowed them. If you quote any text, make sure that it renders as being quoted. (Make sure that you cite your sources -- check with you local instructor for citation preferences)."
   ]
  },
  {
   "cell_type": "markdown",
   "metadata": {},
   "source": [
    "Answer:"
   ]
  },
  {
   "cell_type": "markdown",
   "metadata": {},
   "source": [
    "## Conclusions and Recommendations"
   ]
  },
  {
   "cell_type": "markdown",
   "metadata": {},
   "source": [
    "- Based on your exploration of the data, what are you key takeaways and recommendations?\n",
    "- Are there additional data you desire that would better inform your investigations?"
   ]
  },
  {
   "cell_type": "markdown",
   "metadata": {},
   "source": [
    "**Conclusion:**\n",
    "- This report was created to help identify the causes of the increase in traffic accidents and how to find solutions to facilitate road traffic in Saudi Arabia. The data analyzed showed that the trend was to reduce the number of traffic accidents.During the years (2016-2017), data from the Traffic Department of the Ministry of Interior showed an increase in the main regions of Makkah, Riyadh and the Eastern region above the mean number of accidents. "
   ]
  },
  {
   "cell_type": "markdown",
   "metadata": {},
   "source": [
    "**kay takeaways:**\n",
    "\n",
    "- You have to be careful and focus when driving in the major regions of Saudi Arabia. Accidents show much higher than the mean number of accidents in these regions.\n",
    "\n",
    "- The traffic department should conduct more scrutiny and develop plans for the most densely populated regions.\n",
    "\n"
   ]
  },
  {
   "cell_type": "markdown",
   "metadata": {},
   "source": [
    "**Additional data:**\n",
    "\n",
    "- Other country data accidents to understand where KSA sits in comparison with other countries.\n",
    "- Population data for each region so we can estimate the incidence of accidents more clearly based on population density."
   ]
  },
  {
   "cell_type": "markdown",
   "metadata": {},
   "source": [
    "# blog link:"
   ]
  },
  {
   "cell_type": "markdown",
   "metadata": {},
   "source": [
    "https://accidentsksa.blogspot.com/"
   ]
  }
 ],
 "metadata": {
  "anaconda-cloud": {},
  "kernelspec": {
   "display_name": "Python 3",
   "language": "python",
   "name": "python3"
  },
  "language_info": {
   "codemirror_mode": {
    "name": "ipython",
    "version": 3
   },
   "file_extension": ".py",
   "mimetype": "text/x-python",
   "name": "python",
   "nbconvert_exporter": "python",
   "pygments_lexer": "ipython3",
   "version": "3.7.4"
  }
 },
 "nbformat": 4,
 "nbformat_minor": 2
}
